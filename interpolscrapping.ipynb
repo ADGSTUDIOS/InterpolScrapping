{
  "nbformat": 4,
  "nbformat_minor": 0,
  "metadata": {
    "colab": {
      "name": "interpolscrapping.ipynb",
      "provenance": [],
      "collapsed_sections": [],
      "authorship_tag": "ABX9TyOV60C2DGIzcmEsGomamPZd",
      "include_colab_link": true
    },
    "kernelspec": {
      "name": "python3",
      "display_name": "Python 3"
    },
    "language_info": {
      "name": "python"
    },
    "widgets": {
      "application/vnd.jupyter.widget-state+json": {
        "f4e2b4cc5c144ec5b48ab893797d8fb9": {
          "model_module": "@jupyter-widgets/controls",
          "model_name": "HBoxModel",
          "model_module_version": "1.5.0",
          "state": {
            "_view_name": "HBoxView",
            "_dom_classes": [],
            "_model_name": "HBoxModel",
            "_view_module": "@jupyter-widgets/controls",
            "_model_module_version": "1.5.0",
            "_view_count": null,
            "_view_module_version": "1.5.0",
            "box_style": "",
            "layout": "IPY_MODEL_cb3f196103404cf28339dd5c2c13dc30",
            "_model_module": "@jupyter-widgets/controls",
            "children": [
              "IPY_MODEL_62c5186b6ba14e999f2cce798e9edb40",
              "IPY_MODEL_7b3b21fd684642cc9fc202d19908a787",
              "IPY_MODEL_8cb18e31512941b18082948a676fb0a1"
            ]
          }
        },
        "cb3f196103404cf28339dd5c2c13dc30": {
          "model_module": "@jupyter-widgets/base",
          "model_name": "LayoutModel",
          "model_module_version": "1.2.0",
          "state": {
            "_view_name": "LayoutView",
            "grid_template_rows": null,
            "right": null,
            "justify_content": null,
            "_view_module": "@jupyter-widgets/base",
            "overflow": null,
            "_model_module_version": "1.2.0",
            "_view_count": null,
            "flex_flow": null,
            "width": null,
            "min_width": null,
            "border": null,
            "align_items": null,
            "bottom": null,
            "_model_module": "@jupyter-widgets/base",
            "top": null,
            "grid_column": null,
            "overflow_y": null,
            "overflow_x": null,
            "grid_auto_flow": null,
            "grid_area": null,
            "grid_template_columns": null,
            "flex": null,
            "_model_name": "LayoutModel",
            "justify_items": null,
            "grid_row": null,
            "max_height": null,
            "align_content": null,
            "visibility": null,
            "align_self": null,
            "height": null,
            "min_height": null,
            "padding": null,
            "grid_auto_rows": null,
            "grid_gap": null,
            "max_width": null,
            "order": null,
            "_view_module_version": "1.2.0",
            "grid_template_areas": null,
            "object_position": null,
            "object_fit": null,
            "grid_auto_columns": null,
            "margin": null,
            "display": null,
            "left": null
          }
        },
        "62c5186b6ba14e999f2cce798e9edb40": {
          "model_module": "@jupyter-widgets/controls",
          "model_name": "HTMLModel",
          "model_module_version": "1.5.0",
          "state": {
            "_view_name": "HTMLView",
            "style": "IPY_MODEL_6209c3badddb4daf8ef51a2fc905721d",
            "_dom_classes": [],
            "description": "",
            "_model_name": "HTMLModel",
            "placeholder": "​",
            "_view_module": "@jupyter-widgets/controls",
            "_model_module_version": "1.5.0",
            "value": "100%",
            "_view_count": null,
            "_view_module_version": "1.5.0",
            "description_tooltip": null,
            "_model_module": "@jupyter-widgets/controls",
            "layout": "IPY_MODEL_5a987fbfed6e4868a1253a6b6f96d890"
          }
        },
        "7b3b21fd684642cc9fc202d19908a787": {
          "model_module": "@jupyter-widgets/controls",
          "model_name": "FloatProgressModel",
          "model_module_version": "1.5.0",
          "state": {
            "_view_name": "ProgressView",
            "style": "IPY_MODEL_fab0597bbeed488a89074ee627bb8ba2",
            "_dom_classes": [],
            "description": "",
            "_model_name": "FloatProgressModel",
            "bar_style": "success",
            "max": 201,
            "_view_module": "@jupyter-widgets/controls",
            "_model_module_version": "1.5.0",
            "value": 201,
            "_view_count": null,
            "_view_module_version": "1.5.0",
            "orientation": "horizontal",
            "min": 0,
            "description_tooltip": null,
            "_model_module": "@jupyter-widgets/controls",
            "layout": "IPY_MODEL_fc1cbc0e12c14c2b9ca47a9ee0a0041a"
          }
        },
        "8cb18e31512941b18082948a676fb0a1": {
          "model_module": "@jupyter-widgets/controls",
          "model_name": "HTMLModel",
          "model_module_version": "1.5.0",
          "state": {
            "_view_name": "HTMLView",
            "style": "IPY_MODEL_4fc2cd4b3f384309a5bda6b9419ecb58",
            "_dom_classes": [],
            "description": "",
            "_model_name": "HTMLModel",
            "placeholder": "​",
            "_view_module": "@jupyter-widgets/controls",
            "_model_module_version": "1.5.0",
            "value": " 201/201 [15:50&lt;00:00,  7.32s/it]",
            "_view_count": null,
            "_view_module_version": "1.5.0",
            "description_tooltip": null,
            "_model_module": "@jupyter-widgets/controls",
            "layout": "IPY_MODEL_8feb2370d10d46b29965fda4111ff454"
          }
        },
        "6209c3badddb4daf8ef51a2fc905721d": {
          "model_module": "@jupyter-widgets/controls",
          "model_name": "DescriptionStyleModel",
          "model_module_version": "1.5.0",
          "state": {
            "_view_name": "StyleView",
            "_model_name": "DescriptionStyleModel",
            "description_width": "",
            "_view_module": "@jupyter-widgets/base",
            "_model_module_version": "1.5.0",
            "_view_count": null,
            "_view_module_version": "1.2.0",
            "_model_module": "@jupyter-widgets/controls"
          }
        },
        "5a987fbfed6e4868a1253a6b6f96d890": {
          "model_module": "@jupyter-widgets/base",
          "model_name": "LayoutModel",
          "model_module_version": "1.2.0",
          "state": {
            "_view_name": "LayoutView",
            "grid_template_rows": null,
            "right": null,
            "justify_content": null,
            "_view_module": "@jupyter-widgets/base",
            "overflow": null,
            "_model_module_version": "1.2.0",
            "_view_count": null,
            "flex_flow": null,
            "width": null,
            "min_width": null,
            "border": null,
            "align_items": null,
            "bottom": null,
            "_model_module": "@jupyter-widgets/base",
            "top": null,
            "grid_column": null,
            "overflow_y": null,
            "overflow_x": null,
            "grid_auto_flow": null,
            "grid_area": null,
            "grid_template_columns": null,
            "flex": null,
            "_model_name": "LayoutModel",
            "justify_items": null,
            "grid_row": null,
            "max_height": null,
            "align_content": null,
            "visibility": null,
            "align_self": null,
            "height": null,
            "min_height": null,
            "padding": null,
            "grid_auto_rows": null,
            "grid_gap": null,
            "max_width": null,
            "order": null,
            "_view_module_version": "1.2.0",
            "grid_template_areas": null,
            "object_position": null,
            "object_fit": null,
            "grid_auto_columns": null,
            "margin": null,
            "display": null,
            "left": null
          }
        },
        "fab0597bbeed488a89074ee627bb8ba2": {
          "model_module": "@jupyter-widgets/controls",
          "model_name": "ProgressStyleModel",
          "model_module_version": "1.5.0",
          "state": {
            "_view_name": "StyleView",
            "_model_name": "ProgressStyleModel",
            "description_width": "",
            "_view_module": "@jupyter-widgets/base",
            "_model_module_version": "1.5.0",
            "_view_count": null,
            "_view_module_version": "1.2.0",
            "bar_color": null,
            "_model_module": "@jupyter-widgets/controls"
          }
        },
        "fc1cbc0e12c14c2b9ca47a9ee0a0041a": {
          "model_module": "@jupyter-widgets/base",
          "model_name": "LayoutModel",
          "model_module_version": "1.2.0",
          "state": {
            "_view_name": "LayoutView",
            "grid_template_rows": null,
            "right": null,
            "justify_content": null,
            "_view_module": "@jupyter-widgets/base",
            "overflow": null,
            "_model_module_version": "1.2.0",
            "_view_count": null,
            "flex_flow": null,
            "width": null,
            "min_width": null,
            "border": null,
            "align_items": null,
            "bottom": null,
            "_model_module": "@jupyter-widgets/base",
            "top": null,
            "grid_column": null,
            "overflow_y": null,
            "overflow_x": null,
            "grid_auto_flow": null,
            "grid_area": null,
            "grid_template_columns": null,
            "flex": null,
            "_model_name": "LayoutModel",
            "justify_items": null,
            "grid_row": null,
            "max_height": null,
            "align_content": null,
            "visibility": null,
            "align_self": null,
            "height": null,
            "min_height": null,
            "padding": null,
            "grid_auto_rows": null,
            "grid_gap": null,
            "max_width": null,
            "order": null,
            "_view_module_version": "1.2.0",
            "grid_template_areas": null,
            "object_position": null,
            "object_fit": null,
            "grid_auto_columns": null,
            "margin": null,
            "display": null,
            "left": null
          }
        },
        "4fc2cd4b3f384309a5bda6b9419ecb58": {
          "model_module": "@jupyter-widgets/controls",
          "model_name": "DescriptionStyleModel",
          "model_module_version": "1.5.0",
          "state": {
            "_view_name": "StyleView",
            "_model_name": "DescriptionStyleModel",
            "description_width": "",
            "_view_module": "@jupyter-widgets/base",
            "_model_module_version": "1.5.0",
            "_view_count": null,
            "_view_module_version": "1.2.0",
            "_model_module": "@jupyter-widgets/controls"
          }
        },
        "8feb2370d10d46b29965fda4111ff454": {
          "model_module": "@jupyter-widgets/base",
          "model_name": "LayoutModel",
          "model_module_version": "1.2.0",
          "state": {
            "_view_name": "LayoutView",
            "grid_template_rows": null,
            "right": null,
            "justify_content": null,
            "_view_module": "@jupyter-widgets/base",
            "overflow": null,
            "_model_module_version": "1.2.0",
            "_view_count": null,
            "flex_flow": null,
            "width": null,
            "min_width": null,
            "border": null,
            "align_items": null,
            "bottom": null,
            "_model_module": "@jupyter-widgets/base",
            "top": null,
            "grid_column": null,
            "overflow_y": null,
            "overflow_x": null,
            "grid_auto_flow": null,
            "grid_area": null,
            "grid_template_columns": null,
            "flex": null,
            "_model_name": "LayoutModel",
            "justify_items": null,
            "grid_row": null,
            "max_height": null,
            "align_content": null,
            "visibility": null,
            "align_self": null,
            "height": null,
            "min_height": null,
            "padding": null,
            "grid_auto_rows": null,
            "grid_gap": null,
            "max_width": null,
            "order": null,
            "_view_module_version": "1.2.0",
            "grid_template_areas": null,
            "object_position": null,
            "object_fit": null,
            "grid_auto_columns": null,
            "margin": null,
            "display": null,
            "left": null
          }
        }
      }
    }
  },
  "cells": [
    {
      "cell_type": "markdown",
      "metadata": {
        "id": "view-in-github",
        "colab_type": "text"
      },
      "source": [
        "<a href=\"https://colab.research.google.com/github/ADGSTUDIOS/InterpolScrapping/blob/main/interpolscrapping.ipynb\" target=\"_parent\"><img src=\"https://colab.research.google.com/assets/colab-badge.svg\" alt=\"Open In Colab\"/></a>"
      ]
    },
    {
      "cell_type": "markdown",
      "metadata": {
        "id": "TGaEJv6kLeWU"
      },
      "source": [
        "# ADGSTUDIOS Solution for scrapping"
      ]
    },
    {
      "cell_type": "markdown",
      "metadata": {
        "id": "71tiPdi7J1oK"
      },
      "source": [
        "# Interpol uses RestAPI "
      ]
    },
    {
      "cell_type": "markdown",
      "metadata": {
        "id": "fPC74hKvKMOx"
      },
      "source": [
        "# Data Engineering Plan \n",
        "\n",
        "Approach A - Scrape all data and put it into database\n",
        "\n",
        "Approach B - Just run queries using their RestAPI, when user uses that it will then insert into database\n",
        "\n",
        "I have reversed Engineered their website to execute queries on Database look at example below"
      ]
    },
    {
      "cell_type": "markdown",
      "metadata": {
        "id": "0rlmDnomKybh"
      },
      "source": [
        "They API is not advertised publicly, after investigation i found their responses.\n",
        "\n",
        "Update they have a system that soft blocks your IP Address for a while when excessively using the website"
      ]
    },
    {
      "cell_type": "markdown",
      "metadata": {
        "id": "zv2fIgYeLUNU"
      },
      "source": [
        "*We can scrape using all the nationalities*"
      ]
    },
    {
      "cell_type": "markdown",
      "metadata": {
        "id": "osvn7QWOLPAG"
      },
      "source": [
        "\n",
        "\n",
        "```\n",
        "<select id=\"nationality\" name=\"nationality\" class=\"generalForm__selectArea\">\n",
        "        <option></option><option value=\"AF\">Afghanistan</option><option value=\"AL\">Albania</option><option value=\"DZ\">Algeria</option><option value=\"AS\">American Samoa, United States</option><option value=\"AD\">Andorra</option><option value=\"AO\">Angola</option><option value=\"AI\">Anguilla, United Kingdom</option><option value=\"AG\">Antigua and Barbuda</option><option value=\"AR\">Argentina</option><option value=\"AM\">Armenia</option><option value=\"AU\">Australia</option><option value=\"AT\">Austria</option><option value=\"AZ\">Azerbaijan</option><option value=\"BS\">Bahamas</option><option value=\"BH\">Bahrain</option><option value=\"BD\">Bangladesh</option><option value=\"BB\">Barbados</option><option value=\"BY\">Belarus</option><option value=\"BE\">Belgium</option><option value=\"BZ\">Belize</option><option value=\"BJ\">Benin</option><option value=\"BT\">Bhutan</option><option value=\"BO\">Bolivia</option><option value=\"BA\">Bosnia and Herzegovina</option><option value=\"BW\">Botswana</option><option value=\"BR\">Brazil</option><option value=\"BN\">Brunei </option><option value=\"BG\">Bulgaria</option><option value=\"BF\">Burkina Faso</option><option value=\"BI\">Burundi</option><option value=\"KH\">Cambodia</option><option value=\"CM\">Cameroon</option><option value=\"CA\">Canada</option><option value=\"CV\">Cape Verde</option><option value=\"CF\">Central African Republic</option><option value=\"TD\">Chad</option><option value=\"CL\">Chile</option><option value=\"CN\">China</option><option value=\"CO\">Colombia</option><option value=\"KM\">Comoros</option><option value=\"CG\">Congo</option><option value=\"CD\">Congo (Democratic Republic of)</option><option value=\"CR\">Costa Rica</option><option value=\"HR\">Croatia</option><option value=\"CU\">Cuba</option><option value=\"CY\">Cyprus</option><option value=\"CZ\">Czech Republic</option><option value=\"CI\">Côte d'Ivoire</option><option value=\"DK\">Denmark</option><option value=\"DJ\">Djibouti</option><option value=\"DM\">Dominica</option><option value=\"DO\">Dominican Republic</option><option value=\"EC\">Ecuador</option><option value=\"EG\">Egypt</option><option value=\"SV\">El Salvador</option><option value=\"GQ\">Equatorial Guinea</option><option value=\"ER\">Eritrea</option><option value=\"EE\">Estonia</option><option value=\"SZ\">Eswatini</option><option value=\"ET\">Ethiopia</option><option value=\"FJ\">Fiji</option><option value=\"FI\">Finland</option><option value=\"FR\">France</option><option value=\"GA\">Gabon</option><option value=\"GM\">Gambia</option><option value=\"GE\">Georgia</option><option value=\"DE\">Germany</option><option value=\"GH\">Ghana</option><option value=\"GR\">Greece</option><option value=\"GD\">Grenada</option><option value=\"GT\">Guatemala</option><option value=\"GN\">Guinea</option><option value=\"GW\">Guinea Bissau</option><option value=\"GY\">Guyana</option><option value=\"HT\">Haiti</option><option value=\"HN\">Honduras</option><option value=\"HU\">Hungary</option><option value=\"914\">ICC (International Criminal Court)</option><option value=\"IS\">Iceland</option><option value=\"IN\">India</option><option value=\"ID\">Indonesia</option><option value=\"IR\">Iran</option><option value=\"IQ\">Iraq</option><option value=\"IE\">Ireland</option><option value=\"IL\">Israel</option><option value=\"IT\">Italy</option><option value=\"JM\">Jamaica</option><option value=\"JP\">Japan</option><option value=\"JO\">Jordan</option><option value=\"KZ\">Kazakhstan</option><option value=\"KE\">Kenya</option><option value=\"KI\">Kiribati</option><option value=\"KP\">Korea (Democratic People's Republic of)</option><option value=\"KR\">Korea (Republic of)</option><option value=\"KW\">Kuwait</option><option value=\"KG\">Kyrgyzstan</option><option value=\"LA\">Laos</option><option value=\"LV\">Latvia</option><option value=\"LB\">Lebanon</option><option value=\"LS\">Lesotho</option><option value=\"LR\">Liberia</option><option value=\"LY\">Libya</option><option value=\"LI\">Liechtenstein</option><option value=\"LT\">Lithuania</option><option value=\"LU\">Luxembourg</option><option value=\"MO\">Macao, China</option><option value=\"MG\">Madagascar</option><option value=\"MW\">Malawi</option><option value=\"MY\">Malaysia</option><option value=\"MV\">Maldives</option><option value=\"ML\">Mali</option><option value=\"MT\">Malta</option><option value=\"MH\">Marshall Islands</option><option value=\"MR\">Mauritania</option><option value=\"MU\">Mauritius</option><option value=\"MX\">Mexico</option><option value=\"FM\">Micronesia, Federated States of</option><option value=\"MD\">Moldova</option><option value=\"MC\">Monaco</option><option value=\"MN\">Mongolia</option><option value=\"ME\">Montenegro</option><option value=\"MA\">Morocco</option><option value=\"MZ\">Mozambique</option><option value=\"MM\">Myanmar</option><option value=\"NA\">Namibia</option><option value=\"NR\">Nauru</option><option value=\"NP\">Nepal</option><option value=\"NL\">Netherlands</option><option value=\"NZ\">New Zealand</option><option value=\"NI\">Nicaragua</option><option value=\"NE\">Niger</option><option value=\"NG\">Nigeria</option><option value=\"MK\">North Macedonia</option><option value=\"NO\">Norway</option><option value=\"OM\">Oman</option><option value=\"PK\">Pakistan</option><option value=\"PW\">Palau</option><option value=\"PS\">Palestine, State of</option><option value=\"PA\">Panama</option><option value=\"PG\">Papua New Guinea</option><option value=\"PY\">Paraguay</option><option value=\"PE\">Peru</option><option value=\"PH\">Philippines</option><option value=\"PL\">Poland</option><option value=\"PT\">Portugal</option><option value=\"QA\">Qatar</option><option value=\"RO\">Romania</option><option value=\"RU\">Russia</option><option value=\"RW\">Rwanda</option><option value=\"KN\">Saint Kitts and Nevis</option><option value=\"LC\">Saint Lucia</option><option value=\"VC\">Saint Vincent and the Grenadines</option><option value=\"WS\">Samoa</option><option value=\"SM\">San Marino</option><option value=\"ST\">Sao Tome and Principe</option><option value=\"SA\">Saudi Arabia</option><option value=\"SN\">Senegal</option><option value=\"RS\">Serbia</option><option value=\"SC\">Seychelles</option><option value=\"SL\">Sierra Leone</option><option value=\"SG\">Singapore</option><option value=\"SK\">Slovakia</option><option value=\"SI\">Slovenia</option><option value=\"SB\">Solomon Islands</option><option value=\"SO\">Somalia</option><option value=\"ZA\">South Africa</option><option value=\"SS\">South Sudan</option><option value=\"ES\">Spain</option><option value=\"LK\">Sri Lanka</option><option value=\"916\">STL (Special Tribunal for Lebanon)</option><option value=\"SD\">Sudan</option><option value=\"SR\">Suriname</option><option value=\"SE\">Sweden</option><option value=\"CH\">Switzerland</option><option value=\"SY\">Syria</option><option value=\"TJ\">Tajikistan</option><option value=\"TZ\">Tanzania</option><option value=\"TH\">Thailand</option><option value=\"TL\">Timor-Leste</option><option value=\"TG\">Togo</option><option value=\"TO\">Tonga</option><option value=\"TT\">Trinidad and Tobago</option><option value=\"TN\">Tunisia</option><option value=\"TR\">Turkey</option><option value=\"TM\">Turkmenistan</option><option value=\"TC\">Turks and Caicos (Islands), United Kingdom</option><option value=\"TV\">Tuvalu</option><option value=\"UG\">Uganda</option><option value=\"UA\">Ukraine</option><option value=\"922\">UN IRMCT (United Nations International Residual Mechanism for Criminal Tribunals)</option><option value=\"UNK\">under UNMIK mandate (Kosovo)</option><option value=\"AE\">United Arab Emirates</option><option value=\"GB\">United Kingdom</option><option value=\"US\">United States</option><option value=\"UY\">Uruguay</option><option value=\"UZ\">Uzbekistan</option><option value=\"VU\">Vanuatu</option><option value=\"VA\">Vatican City State</option><option value=\"VE\">Venezuela</option><option value=\"VN\">Viet Nam</option><option value=\"YE\">Yemen</option><option value=\"ZM\">Zambia</option><option value=\"ZW\">Zimbabwe</option></select>\n",
        "```\n",
        "\n"
      ]
    },
    {
      "cell_type": "markdown",
      "metadata": {
        "id": "JrCT-oIG1OPr"
      },
      "source": [
        "Importing our libaries"
      ]
    },
    {
      "cell_type": "code",
      "metadata": {
        "colab": {
          "base_uri": "https://localhost:8080/"
        },
        "id": "p_56lvl6-cEA",
        "outputId": "09f7ed6e-38ae-4554-dc44-5c86e1abc895"
      },
      "source": [
        "#Module to Measure Progress\n",
        "!pip install tqdm "
      ],
      "execution_count": 1,
      "outputs": [
        {
          "output_type": "stream",
          "name": "stdout",
          "text": [
            "Requirement already satisfied: tqdm in /usr/local/lib/python3.7/dist-packages (4.62.2)\n"
          ]
        }
      ]
    },
    {
      "cell_type": "code",
      "metadata": {
        "id": "9kDTt-cogEN0"
      },
      "source": [
        "import requests\n",
        "import json\n",
        "from time import sleep\n",
        "import time\n",
        "from tqdm.auto import tqdm"
      ],
      "execution_count": 12,
      "outputs": []
    },
    {
      "cell_type": "markdown",
      "metadata": {
        "id": "0uS-fOZA1Q2d"
      },
      "source": [
        "Some fetching functions i made"
      ]
    },
    {
      "cell_type": "code",
      "metadata": {
        "id": "kqGSCOqqasb0"
      },
      "source": [
        "def returnResponse(link):\n",
        "  response = requests.get(link) \n",
        "  data = json.loads(response.content)\n",
        "  for keys,value in data.items():\n",
        "          if keys == '_embedded':\n",
        "              return value\n",
        "def GetPaginationLinks(link):\n",
        "  response = requests.get(link) \n",
        "  data = json.loads(response.content)\n",
        "  for keys,value in data.items():\n",
        "      if keys == '_links':\n",
        "        metadata = value\n",
        "        for keys,value in metadata.items():\n",
        "          if keys == 'next':\n",
        "            if value['href'] in paginationlinks:\n",
        "              return '0'\n",
        "            else:\n",
        "              paginationlinks.append(value['href'])\n",
        "              GetPaginationLinks(value['href'])\n",
        "    "
      ],
      "execution_count": 3,
      "outputs": []
    },
    {
      "cell_type": "markdown",
      "metadata": {
        "id": "4kwXjoLTHoq9"
      },
      "source": [
        "Data Engineering and cleaning"
      ]
    },
    {
      "cell_type": "code",
      "metadata": {
        "colab": {
          "base_uri": "https://localhost:8080/",
          "height": 49,
          "referenced_widgets": [
            "f4e2b4cc5c144ec5b48ab893797d8fb9",
            "cb3f196103404cf28339dd5c2c13dc30",
            "62c5186b6ba14e999f2cce798e9edb40",
            "7b3b21fd684642cc9fc202d19908a787",
            "8cb18e31512941b18082948a676fb0a1",
            "6209c3badddb4daf8ef51a2fc905721d",
            "5a987fbfed6e4868a1253a6b6f96d890",
            "fab0597bbeed488a89074ee627bb8ba2",
            "fc1cbc0e12c14c2b9ca47a9ee0a0041a",
            "4fc2cd4b3f384309a5bda6b9419ecb58",
            "8feb2370d10d46b29965fda4111ff454"
          ]
        },
        "id": "dyZADxzXMClu",
        "outputId": "37801c95-9513-4717-8431-56756d51ae9b"
      },
      "source": [
        "forename = []\n",
        "date_of_birth =[]\n",
        "entity_id = []\n",
        "nationalities = []\n",
        "name  =  []\n",
        "_links = []\n",
        "nameofcountrydb = []\n",
        "CountryNames=['Afghanistan','Albania','Algeria','American\\xa0Samoa,\\xa0United\\xa0States','Andorra','Angola','Anguilla,\\xa0United\\xa0Kingdom','Antigua\\xa0and\\xa0Barbuda','Argentina','Armenia','Australia','Austria','Azerbaijan','Bahamas','Bahrain','Bangladesh','Barbados','Belarus','Belgium','Belize','Benin','Bhutan','Bolivia','Bosnia\\xa0and\\xa0Herzegovina','Botswana','Brazil','Brunei','Bulgaria','Burkina\\xa0Faso','Burundi','Cambodia','Cameroon','Canada','Cape\\xa0Verde','Central\\xa0African\\xa0Republic','Chad','Chile','China','Colombia','Comoros','Congo','Congo\\xa0(Democratic\\xa0Republic\\xa0of)','Costa\\xa0Rica','Croatia','Cuba','Cyprus','Czech\\xa0Republic',\"Côte\\xa0d'Ivoire\",'Denmark','Djibouti','Dominica','Dominican\\xa0Republic','Ecuador','Egypt','El\\xa0Salvador','Equatorial\\xa0Guinea','Eritrea','Estonia','Eswatini','Ethiopia','Fiji','Finland','France','Gabon','Gambia','Georgia','Germany','Ghana','Greece','Grenada','Guatemala','Guinea','Guinea\\xa0Bissau','Guyana','Haiti','Honduras','Hungary','>ICC\\xa0(International\\xa0Criminal\\xa0Court)','Iceland','India','Indonesia','Iran','Iraq','Ireland','Israel','Italy','Jamaica','Japan','Jordan','Kazakhstan','Kenya','Kiribati',\"Korea\\xa0(Democratic\\xa0People's\\xa0Republic\\xa0of)\",'Korea\\xa0(Republic\\xa0of)','Kuwait','Kyrgyzstan','Laos','Latvia','Lebanon','Lesotho','Liberia','Libya','Liechtenstein','Lithuania','Luxembourg','Macao,\\xa0China','Madagascar','Malawi','Malaysia','Maldives','Mali','Malta','Marshall\\xa0Islands','Mauritania','Mauritius','Mexico','Micronesia,\\xa0Federated\\xa0States\\xa0of','Moldova','Monaco','Mongolia','Montenegro','Morocco','Mozambique','Myanmar','Namibia','Nauru','Nepal','Netherlands','New\\xa0Zealand','Nicaragua','Niger','Nigeria','North\\xa0Macedonia','Norway','Oman','Pakistan','Palau','Palestine,\\xa0State\\xa0of','Panama','Papua\\xa0New\\xa0Guinea','Paraguay','Peru','Philippines','Poland','Portugal','Qatar','Romania','Russia','Rwanda','Saint\\xa0Kitts\\xa0and\\xa0Nevis','Saint\\xa0Lucia','Saint\\xa0Vincent\\xa0and\\xa0the\\xa0Grenadines','Samoa','San\\xa0Marino','Sao\\xa0Tome\\xa0and\\xa0Principe','Saudi\\xa0Arabia','Senegal','Serbia','Seychelles','Sierra\\xa0Leone','Singapore','Slovakia','Slovenia','Solomon\\xa0Islands','Somalia','South\\xa0Africa','South\\xa0Sudan','Spain','Sri\\xa0Lanka','>STL\\xa0(Special\\xa0Tribunal\\xa0for\\xa0Lebanon)','Sudan','Suriname','Sweden','Switzerland','Syria','Tajikistan','Tanzania','Thailand','Timor-Leste','Togo','Tonga','Trinidad\\xa0and\\xa0Tobago','Tunisia','Turkey','Turkmenistan','Turks\\xa0and\\xa0Caicos\\xa0(Islands),\\xa0United\\xa0Kingdom','Tuvalu','Uganda','Ukraine','UN\\xa0IRMCT\\xa0(United\\xa0Nations\\xa0International\\xa0Residual\\xa0Mechanism\\xa0for\\xa0Criminal\\xa0Tribunals)','under\\xa0UNMIK\\xa0mandate\\xa0(Kosovo)','United\\xa0Arab\\xa0Emirates','United\\xa0Kingdom','United\\xa0States','Uruguay','Uzbekistan','Vanuatu','Vatican\\xa0City\\xa0State','Venezuela','Viet\\xa0Nam','Yemen','Zambia','Zimbabwe']\n",
        "CountryCodes=['DZ','AS','AD','AO','AI','AG','AR','AM','AU','AT','AZ','BS','BH','BD','BB','BY','BE','BZ','BJ','BT','BO','BA','BW','BR','BN','BG','BF','BI','KH','CM','CA','CV','CF','TD','CL','CN','CO','KM','CG','CD','CR','HR','CU','CY','CZ','CI','DK','DJ','DM','DO','EC','EG','SV','GQ','ER','EE','SZ','ET','FJ','FI','FR','GA','GM','GE','DE','GH','GR','GD','GT','GN','GW','GY','HT','HN','HU','914','IS','IN','ID','IR','IQ','IE','IL','IT','JM','JP','JO','KZ','KE','KI','KP','KR','KW','KG','LA','LV','LB','LS','LR','LY','LI','LT','LU','MO','MG','MW','MY','MV','ML','MT','MH','MR','MU','MX','FM','MD','MC','MN','ME','MA','MZ','MM','NA','NR','NP','NL','NZ','NI','NE','NG','MK','NO','OM','PK','PW','PS','PA','PG','PY','PE','PH','PL','PT','QA','RO','RU','RW','KN','LC','VC','WS','SM','ST','SA','SN','RS','SC','SL','SG','SK','SI','SB','SO','ZA','SS','ES','LK','916','SD','SR','SE','CH','SY','TJ','TZ','TH','TL','TG','TO','TT','TN','TR','TM','TC','TV','UG','UA','922','UNK','AE','GB','US','UY','UZ','VU','VA','VE','VN','YE','ZM','ZW']\n",
        "paginationlinks = []\n",
        "for index,countrycode in enumerate(tqdm(CountryCodes)):\n",
        "    url = 'https://ws-public.interpol.int/notices/v1/red?&nationality='+countrycode\n",
        "    bValid = False\n",
        "    while not bValid == True:\n",
        "      try:\n",
        "        GetPaginationLinks(url)\n",
        "        for link in paginationlinks:\n",
        "                  metadata = returnResponse(link)\n",
        "                  for key,value in metadata.items():\n",
        "                      for person in value:\n",
        "                          for title,data in person.items():\n",
        "                              nameofcountrydb.append(CountryNames[index])\n",
        "                              if title == 'forename':\n",
        "                                  forename.append(data)\n",
        "                              if title == 'date_of_birth':\n",
        "                                  date_of_birth.append(data)\n",
        "                              if title == 'entity_id':\n",
        "                                  entity_id.append(data)\n",
        "                              if title == 'nationalities':\n",
        "                                  nationalities.append(data)\n",
        "                              if title == 'name':\n",
        "                                  name.append(data)\n",
        "                              if title == '_links':\n",
        "                                  _links.append(data)\n",
        "          \n",
        "        bValid = True\n",
        "      except Exception as e:\n",
        "              pass\n",
        "      "
      ],
      "execution_count": 4,
      "outputs": [
        {
          "output_type": "display_data",
          "data": {
            "application/vnd.jupyter.widget-view+json": {
              "model_id": "f4e2b4cc5c144ec5b48ab893797d8fb9",
              "version_minor": 0,
              "version_major": 2
            },
            "text/plain": [
              "  0%|          | 0/201 [00:00<?, ?it/s]"
            ]
          },
          "metadata": {}
        }
      ]
    },
    {
      "cell_type": "markdown",
      "metadata": {
        "id": "bZNC8jxV-F-X"
      },
      "source": [
        "# Viewing our dataset"
      ]
    },
    {
      "cell_type": "code",
      "metadata": {
        "colab": {
          "base_uri": "https://localhost:8080/",
          "height": 417
        },
        "id": "0Ak1NEbu1rPa",
        "outputId": "b19d0016-e876-4503-9ed0-3cc1c60e2aaf"
      },
      "source": [
        "import pandas as pd\n",
        "data = list(zip(entity_id,name,forename,date_of_birth,nationalities,nameofcountrydb))\n",
        "df = pd.DataFrame(data, columns = ['entity_id', 'name', 'forename','date_of_birth','nationalities','CountryDataset'])\n",
        "df"
      ],
      "execution_count": 5,
      "outputs": [
        {
          "output_type": "execute_result",
          "data": {
            "text/html": [
              "<div>\n",
              "<style scoped>\n",
              "    .dataframe tbody tr th:only-of-type {\n",
              "        vertical-align: middle;\n",
              "    }\n",
              "\n",
              "    .dataframe tbody tr th {\n",
              "        vertical-align: top;\n",
              "    }\n",
              "\n",
              "    .dataframe thead th {\n",
              "        text-align: right;\n",
              "    }\n",
              "</style>\n",
              "<table border=\"1\" class=\"dataframe\">\n",
              "  <thead>\n",
              "    <tr style=\"text-align: right;\">\n",
              "      <th></th>\n",
              "      <th>entity_id</th>\n",
              "      <th>name</th>\n",
              "      <th>forename</th>\n",
              "      <th>date_of_birth</th>\n",
              "      <th>nationalities</th>\n",
              "      <th>CountryDataset</th>\n",
              "    </tr>\n",
              "  </thead>\n",
              "  <tbody>\n",
              "    <tr>\n",
              "      <th>0</th>\n",
              "      <td>2021/30419</td>\n",
              "      <td>SANCHEZ</td>\n",
              "      <td>JOSE LUIS</td>\n",
              "      <td>1982/06/06</td>\n",
              "      <td>[AR]</td>\n",
              "      <td>Anguilla, United Kingdom</td>\n",
              "    </tr>\n",
              "    <tr>\n",
              "      <th>1</th>\n",
              "      <td>2021/30949</td>\n",
              "      <td>RAFFAULT</td>\n",
              "      <td>RODOLFO ROBERTO</td>\n",
              "      <td>1976/08/08</td>\n",
              "      <td>[AR]</td>\n",
              "      <td>Anguilla, United Kingdom</td>\n",
              "    </tr>\n",
              "    <tr>\n",
              "      <th>2</th>\n",
              "      <td>2021/26622</td>\n",
              "      <td>RIVEROS</td>\n",
              "      <td>NICOLÁS MAXIMILIANO</td>\n",
              "      <td>1994/11/28</td>\n",
              "      <td>[AR]</td>\n",
              "      <td>Anguilla, United Kingdom</td>\n",
              "    </tr>\n",
              "    <tr>\n",
              "      <th>3</th>\n",
              "      <td>2021/25251</td>\n",
              "      <td>SUAREZ</td>\n",
              "      <td>MARIANO NICOLAS</td>\n",
              "      <td>1997/06/19</td>\n",
              "      <td>[AR]</td>\n",
              "      <td>Anguilla, United Kingdom</td>\n",
              "    </tr>\n",
              "    <tr>\n",
              "      <th>4</th>\n",
              "      <td>2021/25249</td>\n",
              "      <td>RODRIGUEZ</td>\n",
              "      <td>LISANDRO</td>\n",
              "      <td>1996/05/30</td>\n",
              "      <td>[AR]</td>\n",
              "      <td>Anguilla, United Kingdom</td>\n",
              "    </tr>\n",
              "    <tr>\n",
              "      <th>...</th>\n",
              "      <td>...</td>\n",
              "      <td>...</td>\n",
              "      <td>...</td>\n",
              "      <td>...</td>\n",
              "      <td>...</td>\n",
              "      <td>...</td>\n",
              "    </tr>\n",
              "    <tr>\n",
              "      <th>231165</th>\n",
              "      <td>2009/38735</td>\n",
              "      <td>PHAM</td>\n",
              "      <td>VAN THE</td>\n",
              "      <td>1971/12/25</td>\n",
              "      <td>[VN]</td>\n",
              "      <td>Greece</td>\n",
              "    </tr>\n",
              "    <tr>\n",
              "      <th>231166</th>\n",
              "      <td>2009/22555</td>\n",
              "      <td>TRAN</td>\n",
              "      <td>MINH QUANG</td>\n",
              "      <td>1971/03/23</td>\n",
              "      <td>[US, VN]</td>\n",
              "      <td>Greece</td>\n",
              "    </tr>\n",
              "    <tr>\n",
              "      <th>231167</th>\n",
              "      <td>2009/2554</td>\n",
              "      <td>NGUYEN</td>\n",
              "      <td>PHI HUNG</td>\n",
              "      <td>1961/05/11</td>\n",
              "      <td>[VN]</td>\n",
              "      <td>Greece</td>\n",
              "    </tr>\n",
              "    <tr>\n",
              "      <th>231168</th>\n",
              "      <td>2007/49264</td>\n",
              "      <td>VAN LUC</td>\n",
              "      <td>HOANG</td>\n",
              "      <td>1974/10/20</td>\n",
              "      <td>[VN]</td>\n",
              "      <td>Greece</td>\n",
              "    </tr>\n",
              "    <tr>\n",
              "      <th>231169</th>\n",
              "      <td>2006/8271</td>\n",
              "      <td>CAO</td>\n",
              "      <td>HUY QUOC</td>\n",
              "      <td>1983/12/16</td>\n",
              "      <td>[VN]</td>\n",
              "      <td>Greece</td>\n",
              "    </tr>\n",
              "  </tbody>\n",
              "</table>\n",
              "<p>231170 rows × 6 columns</p>\n",
              "</div>"
            ],
            "text/plain": [
              "         entity_id       name  ... nationalities            CountryDataset\n",
              "0       2021/30419    SANCHEZ  ...          [AR]  Anguilla, United Kingdom\n",
              "1       2021/30949   RAFFAULT  ...          [AR]  Anguilla, United Kingdom\n",
              "2       2021/26622    RIVEROS  ...          [AR]  Anguilla, United Kingdom\n",
              "3       2021/25251     SUAREZ  ...          [AR]  Anguilla, United Kingdom\n",
              "4       2021/25249  RODRIGUEZ  ...          [AR]  Anguilla, United Kingdom\n",
              "...            ...        ...  ...           ...                       ...\n",
              "231165  2009/38735       PHAM  ...          [VN]                    Greece\n",
              "231166  2009/22555       TRAN  ...      [US, VN]                    Greece\n",
              "231167   2009/2554     NGUYEN  ...          [VN]                    Greece\n",
              "231168  2007/49264    VAN LUC  ...          [VN]                    Greece\n",
              "231169   2006/8271        CAO  ...          [VN]                    Greece\n",
              "\n",
              "[231170 rows x 6 columns]"
            ]
          },
          "metadata": {},
          "execution_count": 5
        }
      ]
    },
    {
      "cell_type": "markdown",
      "metadata": {
        "id": "DqOImvtQKhWP"
      },
      "source": [
        "# Saving database as CSV"
      ]
    },
    {
      "cell_type": "code",
      "metadata": {
        "id": "17Ec8BXSKYIh",
        "outputId": "846154de-d23f-4389-b33e-0cb63f2a0e0a",
        "colab": {
          "base_uri": "https://localhost:8080/"
        }
      },
      "source": [
        "try:\n",
        "  df.to_csv('InterpolDatabase.csv')\n",
        "  print('database saved as .csv')\n",
        "except Exception as e:\n",
        "  print('error:',e)\n"
      ],
      "execution_count": 7,
      "outputs": [
        {
          "output_type": "stream",
          "name": "stdout",
          "text": [
            "database saved as .csv\n"
          ]
        }
      ]
    },
    {
      "cell_type": "markdown",
      "metadata": {
        "id": "mz0LzvwiKSwO"
      },
      "source": [
        "# Inserting records into SQL Server"
      ]
    },
    {
      "cell_type": "code",
      "metadata": {
        "id": "78lJWoSJKLCa",
        "outputId": "83522847-cfc4-4433-efa0-1852f05b7624",
        "colab": {
          "base_uri": "https://localhost:8080/"
        }
      },
      "source": [
        "!pip install sqlserver "
      ],
      "execution_count": 8,
      "outputs": [
        {
          "output_type": "stream",
          "name": "stdout",
          "text": [
            "Collecting sqlserver\n",
            "  Downloading sqlserver-0.0.11-py3-none-any.whl (1.8 kB)\n",
            "Collecting pyodbc\n",
            "  Downloading pyodbc-4.0.32.tar.gz (280 kB)\n",
            "\u001b[K     |████████████████████████████████| 280 kB 4.4 MB/s \n",
            "\u001b[?25hBuilding wheels for collected packages: pyodbc\n",
            "  Building wheel for pyodbc (setup.py) ... \u001b[?25l\u001b[?25hdone\n",
            "  Created wheel for pyodbc: filename=pyodbc-4.0.32-cp37-cp37m-linux_x86_64.whl size=287343 sha256=3c8b4ac413c1fd8dea407ebbe9e473e4bb466c2c25abca449ee57c004045bf41\n",
            "  Stored in directory: /root/.cache/pip/wheels/2e/9c/da/8652fd42e0f662015554f00a9e96fe4f438dfd1ef59787879e\n",
            "Successfully built pyodbc\n",
            "Installing collected packages: pyodbc, sqlserver\n",
            "Successfully installed pyodbc-4.0.32 sqlserver-0.0.11\n"
          ]
        }
      ]
    },
    {
      "cell_type": "markdown",
      "metadata": {
        "id": "4VeJ8V6_Lbqm"
      },
      "source": [
        "Installing libraries for SQL Server"
      ]
    },
    {
      "cell_type": "code",
      "metadata": {
        "id": "1m1DqyMHLbJp",
        "outputId": "1b815e6a-46bf-47d0-e337-d54d33dd82b9",
        "colab": {
          "base_uri": "https://localhost:8080/"
        }
      },
      "source": [
        "%%sh\n",
        "curl https://packages.microsoft.com/keys/microsoft.asc | apt-key add -\n",
        "curl https://packages.microsoft.com/config/ubuntu/16.04/prod.list > /etc/apt/sources.list.d/mssql-release.list\n",
        "sudo apt-get update\n",
        "sudo ACCEPT_EULA=Y apt-get -q -y install msodbcsql17"
      ],
      "execution_count": 9,
      "outputs": [
        {
          "output_type": "stream",
          "name": "stdout",
          "text": [
            "OK\n",
            "Get:1 https://cloud.r-project.org/bin/linux/ubuntu bionic-cran40/ InRelease [3,626 B]\n",
            "Get:2 https://packages.microsoft.com/ubuntu/16.04/prod xenial InRelease [4,003 B]\n",
            "Get:3 https://cloud.r-project.org/bin/linux/ubuntu bionic-cran40/ Packages [67.4 kB]\n",
            "Ign:4 https://developer.download.nvidia.com/compute/cuda/repos/ubuntu1804/x86_64  InRelease\n",
            "Get:5 https://packages.microsoft.com/ubuntu/16.04/prod xenial/main amd64 Packages [253 kB]\n",
            "Get:6 http://security.ubuntu.com/ubuntu bionic-security InRelease [88.7 kB]\n",
            "Ign:7 https://developer.download.nvidia.com/compute/machine-learning/repos/ubuntu1804/x86_64  InRelease\n",
            "Hit:8 https://developer.download.nvidia.com/compute/cuda/repos/ubuntu1804/x86_64  Release\n",
            "Get:9 http://ppa.launchpad.net/c2d4u.team/c2d4u4.0+/ubuntu bionic InRelease [15.9 kB]\n",
            "Hit:10 https://developer.download.nvidia.com/compute/machine-learning/repos/ubuntu1804/x86_64  Release\n",
            "Hit:13 http://archive.ubuntu.com/ubuntu bionic InRelease\n",
            "Get:14 http://archive.ubuntu.com/ubuntu bionic-updates InRelease [88.7 kB]\n",
            "Get:15 http://security.ubuntu.com/ubuntu bionic-security/main amd64 Packages [2,335 kB]\n",
            "Hit:16 http://ppa.launchpad.net/cran/libgit2/ubuntu bionic InRelease\n",
            "Hit:17 http://ppa.launchpad.net/deadsnakes/ppa/ubuntu bionic InRelease\n",
            "Get:18 http://archive.ubuntu.com/ubuntu bionic-backports InRelease [74.6 kB]\n",
            "Hit:19 http://ppa.launchpad.net/graphics-drivers/ppa/ubuntu bionic InRelease\n",
            "Get:20 http://archive.ubuntu.com/ubuntu bionic-updates/universe amd64 Packages [2,202 kB]\n",
            "Get:21 http://security.ubuntu.com/ubuntu bionic-security/restricted amd64 Packages [581 kB]\n",
            "Get:22 http://security.ubuntu.com/ubuntu bionic-security/universe amd64 Packages [1,428 kB]\n",
            "Get:23 http://ppa.launchpad.net/c2d4u.team/c2d4u4.0+/ubuntu bionic/main Sources [1,802 kB]\n",
            "Get:24 http://archive.ubuntu.com/ubuntu bionic-updates/restricted amd64 Packages [613 kB]\n",
            "Get:25 http://archive.ubuntu.com/ubuntu bionic-updates/main amd64 Packages [2,770 kB]\n",
            "Get:26 http://ppa.launchpad.net/c2d4u.team/c2d4u4.0+/ubuntu bionic/main amd64 Packages [922 kB]\n",
            "Fetched 13.2 MB in 8s (1,715 kB/s)\n",
            "Reading package lists...\n",
            "Reading package lists...\n",
            "Building dependency tree...\n",
            "Reading state information...\n",
            "The following additional packages will be installed:\n",
            "  libodbc1 odbcinst odbcinst1debian2 unixodbc unixodbc-dev\n",
            "Suggested packages:\n",
            "  unixodbc-bin\n",
            "The following NEW packages will be installed:\n",
            "  msodbcsql17 unixodbc\n",
            "The following packages will be upgraded:\n",
            "  libodbc1 odbcinst odbcinst1debian2 unixodbc-dev\n",
            "4 upgraded, 2 newly installed, 0 to remove and 62 not upgraded.\n",
            "Need to get 1,458 kB of archives.\n",
            "After this operation, 152 kB of additional disk space will be used.\n",
            "Get:1 https://packages.microsoft.com/ubuntu/16.04/prod xenial/main amd64 odbcinst amd64 2.3.7 [12.0 kB]\n",
            "Get:2 https://packages.microsoft.com/ubuntu/16.04/prod xenial/main amd64 unixodbc-dev amd64 2.3.7 [37.1 kB]\n",
            "Get:3 https://packages.microsoft.com/ubuntu/16.04/prod xenial/main amd64 odbcinst1debian2 amd64 2.3.7 [135 kB]\n",
            "Get:4 https://packages.microsoft.com/ubuntu/16.04/prod xenial/main amd64 libodbc1 amd64 2.3.7 [511 kB]\n",
            "Get:5 https://packages.microsoft.com/ubuntu/16.04/prod xenial/main amd64 unixodbc amd64 2.3.7 [19.6 kB]\n",
            "Get:6 https://packages.microsoft.com/ubuntu/16.04/prod xenial/main amd64 msodbcsql17 amd64 17.8.1.1-1 [744 kB]\n",
            "Fetched 1,458 kB in 0s (6,207 kB/s)\n",
            "(Reading database ... \r(Reading database ... 5%\r(Reading database ... 10%\r(Reading database ... 15%\r(Reading database ... 20%\r(Reading database ... 25%\r(Reading database ... 30%\r(Reading database ... 35%\r(Reading database ... 40%\r(Reading database ... 45%\r(Reading database ... 50%\r(Reading database ... 55%\r(Reading database ... 60%\r(Reading database ... 65%\r(Reading database ... 70%\r(Reading database ... 75%\r(Reading database ... 80%\r(Reading database ... 85%\r(Reading database ... 90%\r(Reading database ... 95%\r(Reading database ... 100%\r(Reading database ... 155013 files and directories currently installed.)\r\n",
            "Preparing to unpack .../0-odbcinst_2.3.7_amd64.deb ...\r\n",
            "Unpacking odbcinst (2.3.7) over (2.3.4-1.1ubuntu3) ...\r\n",
            "Preparing to unpack .../1-unixodbc-dev_2.3.7_amd64.deb ...\r\n",
            "Unpacking unixodbc-dev (2.3.7) over (2.3.4-1.1ubuntu3) ...\r\n",
            "Preparing to unpack .../2-odbcinst1debian2_2.3.7_amd64.deb ...\r\n",
            "Unpacking odbcinst1debian2:amd64 (2.3.7) over (2.3.4-1.1ubuntu3) ...\r\n",
            "Preparing to unpack .../3-libodbc1_2.3.7_amd64.deb ...\r\n",
            "Unpacking libodbc1:amd64 (2.3.7) over (2.3.4-1.1ubuntu3) ...\r\n",
            "Selecting previously unselected package unixodbc.\r\n",
            "Preparing to unpack .../4-unixodbc_2.3.7_amd64.deb ...\r\n",
            "Unpacking unixodbc (2.3.7) ...\r\n",
            "Selecting previously unselected package msodbcsql17.\r\n",
            "Preparing to unpack .../5-msodbcsql17_17.8.1.1-1_amd64.deb ...\r\n",
            "debconf: unable to initialize frontend: Dialog\r\n",
            "debconf: (No usable dialog-like program is installed, so the dialog based frontend cannot be used. at /usr/share/perl5/Debconf/FrontEnd/Dialog.pm line 76.)\r\n",
            "debconf: falling back to frontend: Readline\r\n",
            "Unpacking msodbcsql17 (17.8.1.1-1) ...\r\n",
            "Setting up libodbc1:amd64 (2.3.7) ...\r\n",
            "Setting up odbcinst1debian2:amd64 (2.3.7) ...\r\n",
            "Setting up odbcinst (2.3.7) ...\r\n",
            "Setting up unixodbc (2.3.7) ...\r\n",
            "Setting up unixodbc-dev (2.3.7) ...\r\n",
            "Setting up msodbcsql17 (17.8.1.1-1) ...\r\n",
            "Processing triggers for libc-bin (2.27-3ubuntu1.3) ...\r\n",
            "/sbin/ldconfig.real: /usr/local/lib/python3.7/dist-packages/ideep4py/lib/libmkldnn.so.0 is not a symbolic link\r\n",
            "\r\n",
            "Processing triggers for man-db (2.8.3-2ubuntu0.1) ...\r\n"
          ]
        },
        {
          "output_type": "stream",
          "name": "stderr",
          "text": [
            "  % Total    % Received % Xferd  Average Speed   Time    Time     Time  Current\n",
            "                                 Dload  Upload   Total   Spent    Left  Speed\n",
            "\r  0     0    0     0    0     0      0      0 --:--:-- --:--:-- --:--:--     0Warning: apt-key output should not be parsed (stdout is not a terminal)\n",
            "\r  0     0    0     0    0     0      0      0 --:--:-- --:--:-- --:--:--     0\r100   983  100   983    0     0   4842      0 --:--:-- --:--:-- --:--:--  4818\n",
            "  % Total    % Received % Xferd  Average Speed   Time    Time     Time  Current\n",
            "                                 Dload  Upload   Total   Spent    Left  Speed\n",
            "\r  0     0    0     0    0     0      0      0 --:--:-- --:--:-- --:--:--     0\r100    79  100    79    0     0   1053      0 --:--:-- --:--:-- --:--:--  1053\n",
            "debconf: unable to initialize frontend: Dialog\n",
            "debconf: (No usable dialog-like program is installed, so the dialog based frontend cannot be used. at /usr/share/perl5/Debconf/FrontEnd/Dialog.pm line 76, <> line 6.)\n",
            "debconf: falling back to frontend: Readline\n",
            "debconf: unable to initialize frontend: Readline\n",
            "debconf: (This frontend requires a controlling tty.)\n",
            "debconf: falling back to frontend: Teletype\n",
            "dpkg-preconfigure: unable to re-open stdin: \n"
          ]
        }
      ]
    },
    {
      "cell_type": "code",
      "metadata": {
        "id": "eYXeDsDoKpxq"
      },
      "source": [
        "import sqlserver\n",
        "import pandas as pd\n",
        "db = sqlserver.adgsqlserver('DRIVER={ODBC Driver 17 for SQL Server};SERVER=rahndb.ddns.net,57583;DATABASE=RahnDb;UID=admin;PWD=admin') "
      ],
      "execution_count": 5,
      "outputs": []
    },
    {
      "cell_type": "code",
      "metadata": {
        "id": "02cPbuKFRrRb",
        "outputId": "e8d42cf2-e028-45d4-d3a9-44fb86d4284d",
        "colab": {
          "base_uri": "https://localhost:8080/",
          "height": 203
        }
      },
      "source": [
        "df = pd.read_csv('InterpolDatabase.csv')\n",
        "df.head()"
      ],
      "execution_count": 7,
      "outputs": [
        {
          "output_type": "execute_result",
          "data": {
            "text/html": [
              "<div>\n",
              "<style scoped>\n",
              "    .dataframe tbody tr th:only-of-type {\n",
              "        vertical-align: middle;\n",
              "    }\n",
              "\n",
              "    .dataframe tbody tr th {\n",
              "        vertical-align: top;\n",
              "    }\n",
              "\n",
              "    .dataframe thead th {\n",
              "        text-align: right;\n",
              "    }\n",
              "</style>\n",
              "<table border=\"1\" class=\"dataframe\">\n",
              "  <thead>\n",
              "    <tr style=\"text-align: right;\">\n",
              "      <th></th>\n",
              "      <th>Unnamed: 0</th>\n",
              "      <th>entity_id</th>\n",
              "      <th>name</th>\n",
              "      <th>forename</th>\n",
              "      <th>date_of_birth</th>\n",
              "      <th>nationalities</th>\n",
              "      <th>CountryDataset</th>\n",
              "    </tr>\n",
              "  </thead>\n",
              "  <tbody>\n",
              "    <tr>\n",
              "      <th>0</th>\n",
              "      <td>0</td>\n",
              "      <td>2021/30419</td>\n",
              "      <td>SANCHEZ</td>\n",
              "      <td>JOSE LUIS</td>\n",
              "      <td>1982/06/06</td>\n",
              "      <td>['AR']</td>\n",
              "      <td>Anguilla, United Kingdom</td>\n",
              "    </tr>\n",
              "    <tr>\n",
              "      <th>1</th>\n",
              "      <td>1</td>\n",
              "      <td>2021/30949</td>\n",
              "      <td>RAFFAULT</td>\n",
              "      <td>RODOLFO ROBERTO</td>\n",
              "      <td>1976/08/08</td>\n",
              "      <td>['AR']</td>\n",
              "      <td>Anguilla, United Kingdom</td>\n",
              "    </tr>\n",
              "    <tr>\n",
              "      <th>2</th>\n",
              "      <td>2</td>\n",
              "      <td>2021/26622</td>\n",
              "      <td>RIVEROS</td>\n",
              "      <td>NICOLÁS MAXIMILIANO</td>\n",
              "      <td>1994/11/28</td>\n",
              "      <td>['AR']</td>\n",
              "      <td>Anguilla, United Kingdom</td>\n",
              "    </tr>\n",
              "    <tr>\n",
              "      <th>3</th>\n",
              "      <td>3</td>\n",
              "      <td>2021/25251</td>\n",
              "      <td>SUAREZ</td>\n",
              "      <td>MARIANO NICOLAS</td>\n",
              "      <td>1997/06/19</td>\n",
              "      <td>['AR']</td>\n",
              "      <td>Anguilla, United Kingdom</td>\n",
              "    </tr>\n",
              "    <tr>\n",
              "      <th>4</th>\n",
              "      <td>4</td>\n",
              "      <td>2021/25249</td>\n",
              "      <td>RODRIGUEZ</td>\n",
              "      <td>LISANDRO</td>\n",
              "      <td>1996/05/30</td>\n",
              "      <td>['AR']</td>\n",
              "      <td>Anguilla, United Kingdom</td>\n",
              "    </tr>\n",
              "  </tbody>\n",
              "</table>\n",
              "</div>"
            ],
            "text/plain": [
              "   Unnamed: 0   entity_id  ... nationalities            CountryDataset\n",
              "0           0  2021/30419  ...        ['AR']  Anguilla, United Kingdom\n",
              "1           1  2021/30949  ...        ['AR']  Anguilla, United Kingdom\n",
              "2           2  2021/26622  ...        ['AR']  Anguilla, United Kingdom\n",
              "3           3  2021/25251  ...        ['AR']  Anguilla, United Kingdom\n",
              "4           4  2021/25249  ...        ['AR']  Anguilla, United Kingdom\n",
              "\n",
              "[5 rows x 7 columns]"
            ]
          },
          "metadata": {},
          "execution_count": 7
        }
      ]
    },
    {
      "cell_type": "code",
      "metadata": {
        "id": "NZKzy0hJR09n",
        "outputId": "ccd035c0-dbdd-4a0d-ff13-da008cff6975",
        "colab": {
          "base_uri": "https://localhost:8080/",
          "height": 212
        }
      },
      "source": [
        "def InsertDataIntoDatabase(entid,name,forename,dateofbirth,national,countrydataset):\n",
        "    try:\n",
        "            db.ExecuteQuery(\"exec InsertInterpoolDatasetRecords @entity_id = '{0}',@name = '{1}',@forename = '{2}',@date_of_birth = '{3}',@nationalities = '{4}',@CountryDataset= '{5}'\".format(entid,name,forename,dateofbirth,national,countrydataset))\n",
        "    except Exception as e:\n",
        "            print('error:',e)\n",
        "\n",
        "for index, row in df.iterrows():\n",
        "    InsertDataIntoDatabase(row['entity_id'],row['name'],row['forename'],row['date_of_birth'],row('nationalities')[1:-1],row('CountryDataset'))"
      ],
      "execution_count": 16,
      "outputs": [
        {
          "output_type": "error",
          "ename": "TypeError",
          "evalue": "ignored",
          "traceback": [
            "\u001b[0;31m---------------------------------------------------------------------------\u001b[0m",
            "\u001b[0;31mTypeError\u001b[0m                                 Traceback (most recent call last)",
            "\u001b[0;32m<ipython-input-16-9d22aa11aa36>\u001b[0m in \u001b[0;36m<module>\u001b[0;34m()\u001b[0m\n\u001b[1;32m      6\u001b[0m \u001b[0;34m\u001b[0m\u001b[0m\n\u001b[1;32m      7\u001b[0m \u001b[0;32mfor\u001b[0m \u001b[0mindex\u001b[0m\u001b[0;34m,\u001b[0m \u001b[0mrow\u001b[0m \u001b[0;32min\u001b[0m \u001b[0mdf\u001b[0m\u001b[0;34m.\u001b[0m\u001b[0miterrows\u001b[0m\u001b[0;34m(\u001b[0m\u001b[0;34m)\u001b[0m\u001b[0;34m:\u001b[0m\u001b[0;34m\u001b[0m\u001b[0;34m\u001b[0m\u001b[0m\n\u001b[0;32m----> 8\u001b[0;31m     \u001b[0mInsertDataIntoDatabase\u001b[0m\u001b[0;34m(\u001b[0m\u001b[0mrow\u001b[0m\u001b[0;34m[\u001b[0m\u001b[0;34m'entity_id'\u001b[0m\u001b[0;34m]\u001b[0m\u001b[0;34m,\u001b[0m\u001b[0mrow\u001b[0m\u001b[0;34m[\u001b[0m\u001b[0;34m'name'\u001b[0m\u001b[0;34m]\u001b[0m\u001b[0;34m,\u001b[0m\u001b[0mrow\u001b[0m\u001b[0;34m[\u001b[0m\u001b[0;34m'forename'\u001b[0m\u001b[0;34m]\u001b[0m\u001b[0;34m,\u001b[0m\u001b[0mrow\u001b[0m\u001b[0;34m[\u001b[0m\u001b[0;34m'date_of_birth'\u001b[0m\u001b[0;34m]\u001b[0m\u001b[0;34m,\u001b[0m\u001b[0mrow\u001b[0m\u001b[0;34m(\u001b[0m\u001b[0;34m'nationalities'\u001b[0m\u001b[0;34m)\u001b[0m\u001b[0;34m[\u001b[0m\u001b[0;36m1\u001b[0m\u001b[0;34m:\u001b[0m\u001b[0;34m-\u001b[0m\u001b[0;36m1\u001b[0m\u001b[0;34m]\u001b[0m\u001b[0;34m,\u001b[0m\u001b[0mrow\u001b[0m\u001b[0;34m(\u001b[0m\u001b[0;34m'CountryDataset'\u001b[0m\u001b[0;34m)\u001b[0m\u001b[0;34m)\u001b[0m\u001b[0;34m\u001b[0m\u001b[0;34m\u001b[0m\u001b[0m\n\u001b[0m",
            "\u001b[0;31mTypeError\u001b[0m: 'Series' object is not callable"
          ]
        }
      ]
    },
    {
      "cell_type": "markdown",
      "metadata": {
        "id": "kBRDskFuaWai"
      },
      "source": [
        "#### Author : Ashlin Darius Govindasamy"
      ]
    }
  ]
}