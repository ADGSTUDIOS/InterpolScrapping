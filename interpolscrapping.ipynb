{
  "nbformat": 4,
  "nbformat_minor": 0,
  "metadata": {
    "colab": {
      "name": "interpolscrapping.ipynb",
      "provenance": [],
      "collapsed_sections": [],
      "authorship_tag": "ABX9TyMfxPIfQh1x7zbgVlXHJJw7",
      "include_colab_link": true
    },
    "kernelspec": {
      "name": "python3",
      "display_name": "Python 3"
    },
    "language_info": {
      "name": "python"
    },
    "widgets": {
      "application/vnd.jupyter.widget-state+json": {
        "2d95b77ce36a47eea7bebac3587de804": {
          "model_module": "@jupyter-widgets/controls",
          "model_name": "HBoxModel",
          "model_module_version": "1.5.0",
          "state": {
            "_view_name": "HBoxView",
            "_dom_classes": [],
            "_model_name": "HBoxModel",
            "_view_module": "@jupyter-widgets/controls",
            "_model_module_version": "1.5.0",
            "_view_count": null,
            "_view_module_version": "1.5.0",
            "box_style": "",
            "layout": "IPY_MODEL_2f0d38b10c3e46f999495a98e5dbab81",
            "_model_module": "@jupyter-widgets/controls",
            "children": [
              "IPY_MODEL_fd26114eeffe455383075b4b739ea800",
              "IPY_MODEL_04b9389f31234d72b357cc63ab3ad2ab",
              "IPY_MODEL_5a48ecdad37143d8970087febbb601b5"
            ]
          }
        },
        "2f0d38b10c3e46f999495a98e5dbab81": {
          "model_module": "@jupyter-widgets/base",
          "model_name": "LayoutModel",
          "model_module_version": "1.2.0",
          "state": {
            "_view_name": "LayoutView",
            "grid_template_rows": null,
            "right": null,
            "justify_content": null,
            "_view_module": "@jupyter-widgets/base",
            "overflow": null,
            "_model_module_version": "1.2.0",
            "_view_count": null,
            "flex_flow": null,
            "width": null,
            "min_width": null,
            "border": null,
            "align_items": null,
            "bottom": null,
            "_model_module": "@jupyter-widgets/base",
            "top": null,
            "grid_column": null,
            "overflow_y": null,
            "overflow_x": null,
            "grid_auto_flow": null,
            "grid_area": null,
            "grid_template_columns": null,
            "flex": null,
            "_model_name": "LayoutModel",
            "justify_items": null,
            "grid_row": null,
            "max_height": null,
            "align_content": null,
            "visibility": null,
            "align_self": null,
            "height": null,
            "min_height": null,
            "padding": null,
            "grid_auto_rows": null,
            "grid_gap": null,
            "max_width": null,
            "order": null,
            "_view_module_version": "1.2.0",
            "grid_template_areas": null,
            "object_position": null,
            "object_fit": null,
            "grid_auto_columns": null,
            "margin": null,
            "display": null,
            "left": null
          }
        },
        "fd26114eeffe455383075b4b739ea800": {
          "model_module": "@jupyter-widgets/controls",
          "model_name": "HTMLModel",
          "model_module_version": "1.5.0",
          "state": {
            "_view_name": "HTMLView",
            "style": "IPY_MODEL_6d0134cb58684a3b9eec7d0621278a58",
            "_dom_classes": [],
            "description": "",
            "_model_name": "HTMLModel",
            "placeholder": "​",
            "_view_module": "@jupyter-widgets/controls",
            "_model_module_version": "1.5.0",
            "value": " 44%",
            "_view_count": null,
            "_view_module_version": "1.5.0",
            "description_tooltip": null,
            "_model_module": "@jupyter-widgets/controls",
            "layout": "IPY_MODEL_278723ef935c4d2085eab4225e22feb4"
          }
        },
        "04b9389f31234d72b357cc63ab3ad2ab": {
          "model_module": "@jupyter-widgets/controls",
          "model_name": "FloatProgressModel",
          "model_module_version": "1.5.0",
          "state": {
            "_view_name": "ProgressView",
            "style": "IPY_MODEL_9e6ced76104640e484bf7ed227797161",
            "_dom_classes": [],
            "description": "",
            "_model_name": "FloatProgressModel",
            "bar_style": "",
            "max": 201,
            "_view_module": "@jupyter-widgets/controls",
            "_model_module_version": "1.5.0",
            "value": 89,
            "_view_count": null,
            "_view_module_version": "1.5.0",
            "orientation": "horizontal",
            "min": 0,
            "description_tooltip": null,
            "_model_module": "@jupyter-widgets/controls",
            "layout": "IPY_MODEL_abad957d60fb49629f6b04a683cbea9b"
          }
        },
        "5a48ecdad37143d8970087febbb601b5": {
          "model_module": "@jupyter-widgets/controls",
          "model_name": "HTMLModel",
          "model_module_version": "1.5.0",
          "state": {
            "_view_name": "HTMLView",
            "style": "IPY_MODEL_64b7b29028e74de8ac662b04fa8ceb55",
            "_dom_classes": [],
            "description": "",
            "_model_name": "HTMLModel",
            "placeholder": "​",
            "_view_module": "@jupyter-widgets/controls",
            "_model_module_version": "1.5.0",
            "value": " 89/201 [17:14&lt;2:14:13, 71.91s/it]",
            "_view_count": null,
            "_view_module_version": "1.5.0",
            "description_tooltip": null,
            "_model_module": "@jupyter-widgets/controls",
            "layout": "IPY_MODEL_76bcc476f7314f09a15c0efe83ebc3e2"
          }
        },
        "6d0134cb58684a3b9eec7d0621278a58": {
          "model_module": "@jupyter-widgets/controls",
          "model_name": "DescriptionStyleModel",
          "model_module_version": "1.5.0",
          "state": {
            "_view_name": "StyleView",
            "_model_name": "DescriptionStyleModel",
            "description_width": "",
            "_view_module": "@jupyter-widgets/base",
            "_model_module_version": "1.5.0",
            "_view_count": null,
            "_view_module_version": "1.2.0",
            "_model_module": "@jupyter-widgets/controls"
          }
        },
        "278723ef935c4d2085eab4225e22feb4": {
          "model_module": "@jupyter-widgets/base",
          "model_name": "LayoutModel",
          "model_module_version": "1.2.0",
          "state": {
            "_view_name": "LayoutView",
            "grid_template_rows": null,
            "right": null,
            "justify_content": null,
            "_view_module": "@jupyter-widgets/base",
            "overflow": null,
            "_model_module_version": "1.2.0",
            "_view_count": null,
            "flex_flow": null,
            "width": null,
            "min_width": null,
            "border": null,
            "align_items": null,
            "bottom": null,
            "_model_module": "@jupyter-widgets/base",
            "top": null,
            "grid_column": null,
            "overflow_y": null,
            "overflow_x": null,
            "grid_auto_flow": null,
            "grid_area": null,
            "grid_template_columns": null,
            "flex": null,
            "_model_name": "LayoutModel",
            "justify_items": null,
            "grid_row": null,
            "max_height": null,
            "align_content": null,
            "visibility": null,
            "align_self": null,
            "height": null,
            "min_height": null,
            "padding": null,
            "grid_auto_rows": null,
            "grid_gap": null,
            "max_width": null,
            "order": null,
            "_view_module_version": "1.2.0",
            "grid_template_areas": null,
            "object_position": null,
            "object_fit": null,
            "grid_auto_columns": null,
            "margin": null,
            "display": null,
            "left": null
          }
        },
        "9e6ced76104640e484bf7ed227797161": {
          "model_module": "@jupyter-widgets/controls",
          "model_name": "ProgressStyleModel",
          "model_module_version": "1.5.0",
          "state": {
            "_view_name": "StyleView",
            "_model_name": "ProgressStyleModel",
            "description_width": "",
            "_view_module": "@jupyter-widgets/base",
            "_model_module_version": "1.5.0",
            "_view_count": null,
            "_view_module_version": "1.2.0",
            "bar_color": null,
            "_model_module": "@jupyter-widgets/controls"
          }
        },
        "abad957d60fb49629f6b04a683cbea9b": {
          "model_module": "@jupyter-widgets/base",
          "model_name": "LayoutModel",
          "model_module_version": "1.2.0",
          "state": {
            "_view_name": "LayoutView",
            "grid_template_rows": null,
            "right": null,
            "justify_content": null,
            "_view_module": "@jupyter-widgets/base",
            "overflow": null,
            "_model_module_version": "1.2.0",
            "_view_count": null,
            "flex_flow": null,
            "width": null,
            "min_width": null,
            "border": null,
            "align_items": null,
            "bottom": null,
            "_model_module": "@jupyter-widgets/base",
            "top": null,
            "grid_column": null,
            "overflow_y": null,
            "overflow_x": null,
            "grid_auto_flow": null,
            "grid_area": null,
            "grid_template_columns": null,
            "flex": null,
            "_model_name": "LayoutModel",
            "justify_items": null,
            "grid_row": null,
            "max_height": null,
            "align_content": null,
            "visibility": null,
            "align_self": null,
            "height": null,
            "min_height": null,
            "padding": null,
            "grid_auto_rows": null,
            "grid_gap": null,
            "max_width": null,
            "order": null,
            "_view_module_version": "1.2.0",
            "grid_template_areas": null,
            "object_position": null,
            "object_fit": null,
            "grid_auto_columns": null,
            "margin": null,
            "display": null,
            "left": null
          }
        },
        "64b7b29028e74de8ac662b04fa8ceb55": {
          "model_module": "@jupyter-widgets/controls",
          "model_name": "DescriptionStyleModel",
          "model_module_version": "1.5.0",
          "state": {
            "_view_name": "StyleView",
            "_model_name": "DescriptionStyleModel",
            "description_width": "",
            "_view_module": "@jupyter-widgets/base",
            "_model_module_version": "1.5.0",
            "_view_count": null,
            "_view_module_version": "1.2.0",
            "_model_module": "@jupyter-widgets/controls"
          }
        },
        "76bcc476f7314f09a15c0efe83ebc3e2": {
          "model_module": "@jupyter-widgets/base",
          "model_name": "LayoutModel",
          "model_module_version": "1.2.0",
          "state": {
            "_view_name": "LayoutView",
            "grid_template_rows": null,
            "right": null,
            "justify_content": null,
            "_view_module": "@jupyter-widgets/base",
            "overflow": null,
            "_model_module_version": "1.2.0",
            "_view_count": null,
            "flex_flow": null,
            "width": null,
            "min_width": null,
            "border": null,
            "align_items": null,
            "bottom": null,
            "_model_module": "@jupyter-widgets/base",
            "top": null,
            "grid_column": null,
            "overflow_y": null,
            "overflow_x": null,
            "grid_auto_flow": null,
            "grid_area": null,
            "grid_template_columns": null,
            "flex": null,
            "_model_name": "LayoutModel",
            "justify_items": null,
            "grid_row": null,
            "max_height": null,
            "align_content": null,
            "visibility": null,
            "align_self": null,
            "height": null,
            "min_height": null,
            "padding": null,
            "grid_auto_rows": null,
            "grid_gap": null,
            "max_width": null,
            "order": null,
            "_view_module_version": "1.2.0",
            "grid_template_areas": null,
            "object_position": null,
            "object_fit": null,
            "grid_auto_columns": null,
            "margin": null,
            "display": null,
            "left": null
          }
        }
      }
    }
  },
  "cells": [
    {
      "cell_type": "markdown",
      "metadata": {
        "id": "view-in-github",
        "colab_type": "text"
      },
      "source": [
        "<a href=\"https://colab.research.google.com/github/ADGSTUDIOS/InterpolScrapping/blob/main/interpolscrapping.ipynb\" target=\"_parent\"><img src=\"https://colab.research.google.com/assets/colab-badge.svg\" alt=\"Open In Colab\"/></a>"
      ]
    },
    {
      "cell_type": "markdown",
      "metadata": {
        "id": "TGaEJv6kLeWU"
      },
      "source": [
        "# ADGSTUDIOS Solution for scrapping"
      ]
    },
    {
      "cell_type": "markdown",
      "metadata": {
        "id": "71tiPdi7J1oK"
      },
      "source": [
        "# Interpol uses RestAPI "
      ]
    },
    {
      "cell_type": "markdown",
      "metadata": {
        "id": "fPC74hKvKMOx"
      },
      "source": [
        "# Data Engineering Plan \n",
        "\n",
        "Approach A - Scrape all data and put it into database\n",
        "\n",
        "Approach B - Just run queries using their RestAPI, when user uses that it will then insert into database\n",
        "\n",
        "I have reversed Engineered their website to execute queries on Database look at example below"
      ]
    },
    {
      "cell_type": "markdown",
      "metadata": {
        "id": "0rlmDnomKybh"
      },
      "source": [
        "They API is not advertised publicly, after investigation i found their responses.\n",
        "\n",
        "Update they have a system that soft blocks your IP Address for a while when excessively using the website"
      ]
    },
    {
      "cell_type": "markdown",
      "metadata": {
        "id": "zv2fIgYeLUNU"
      },
      "source": [
        "*We can scrape using all the nationalities*"
      ]
    },
    {
      "cell_type": "markdown",
      "metadata": {
        "id": "osvn7QWOLPAG"
      },
      "source": [
        "\n",
        "\n",
        "```\n",
        "<select id=\"nationality\" name=\"nationality\" class=\"generalForm__selectArea\">\n",
        "        <option></option><option value=\"AF\">Afghanistan</option><option value=\"AL\">Albania</option><option value=\"DZ\">Algeria</option><option value=\"AS\">American Samoa, United States</option><option value=\"AD\">Andorra</option><option value=\"AO\">Angola</option><option value=\"AI\">Anguilla, United Kingdom</option><option value=\"AG\">Antigua and Barbuda</option><option value=\"AR\">Argentina</option><option value=\"AM\">Armenia</option><option value=\"AU\">Australia</option><option value=\"AT\">Austria</option><option value=\"AZ\">Azerbaijan</option><option value=\"BS\">Bahamas</option><option value=\"BH\">Bahrain</option><option value=\"BD\">Bangladesh</option><option value=\"BB\">Barbados</option><option value=\"BY\">Belarus</option><option value=\"BE\">Belgium</option><option value=\"BZ\">Belize</option><option value=\"BJ\">Benin</option><option value=\"BT\">Bhutan</option><option value=\"BO\">Bolivia</option><option value=\"BA\">Bosnia and Herzegovina</option><option value=\"BW\">Botswana</option><option value=\"BR\">Brazil</option><option value=\"BN\">Brunei </option><option value=\"BG\">Bulgaria</option><option value=\"BF\">Burkina Faso</option><option value=\"BI\">Burundi</option><option value=\"KH\">Cambodia</option><option value=\"CM\">Cameroon</option><option value=\"CA\">Canada</option><option value=\"CV\">Cape Verde</option><option value=\"CF\">Central African Republic</option><option value=\"TD\">Chad</option><option value=\"CL\">Chile</option><option value=\"CN\">China</option><option value=\"CO\">Colombia</option><option value=\"KM\">Comoros</option><option value=\"CG\">Congo</option><option value=\"CD\">Congo (Democratic Republic of)</option><option value=\"CR\">Costa Rica</option><option value=\"HR\">Croatia</option><option value=\"CU\">Cuba</option><option value=\"CY\">Cyprus</option><option value=\"CZ\">Czech Republic</option><option value=\"CI\">Côte d'Ivoire</option><option value=\"DK\">Denmark</option><option value=\"DJ\">Djibouti</option><option value=\"DM\">Dominica</option><option value=\"DO\">Dominican Republic</option><option value=\"EC\">Ecuador</option><option value=\"EG\">Egypt</option><option value=\"SV\">El Salvador</option><option value=\"GQ\">Equatorial Guinea</option><option value=\"ER\">Eritrea</option><option value=\"EE\">Estonia</option><option value=\"SZ\">Eswatini</option><option value=\"ET\">Ethiopia</option><option value=\"FJ\">Fiji</option><option value=\"FI\">Finland</option><option value=\"FR\">France</option><option value=\"GA\">Gabon</option><option value=\"GM\">Gambia</option><option value=\"GE\">Georgia</option><option value=\"DE\">Germany</option><option value=\"GH\">Ghana</option><option value=\"GR\">Greece</option><option value=\"GD\">Grenada</option><option value=\"GT\">Guatemala</option><option value=\"GN\">Guinea</option><option value=\"GW\">Guinea Bissau</option><option value=\"GY\">Guyana</option><option value=\"HT\">Haiti</option><option value=\"HN\">Honduras</option><option value=\"HU\">Hungary</option><option value=\"914\">ICC (International Criminal Court)</option><option value=\"IS\">Iceland</option><option value=\"IN\">India</option><option value=\"ID\">Indonesia</option><option value=\"IR\">Iran</option><option value=\"IQ\">Iraq</option><option value=\"IE\">Ireland</option><option value=\"IL\">Israel</option><option value=\"IT\">Italy</option><option value=\"JM\">Jamaica</option><option value=\"JP\">Japan</option><option value=\"JO\">Jordan</option><option value=\"KZ\">Kazakhstan</option><option value=\"KE\">Kenya</option><option value=\"KI\">Kiribati</option><option value=\"KP\">Korea (Democratic People's Republic of)</option><option value=\"KR\">Korea (Republic of)</option><option value=\"KW\">Kuwait</option><option value=\"KG\">Kyrgyzstan</option><option value=\"LA\">Laos</option><option value=\"LV\">Latvia</option><option value=\"LB\">Lebanon</option><option value=\"LS\">Lesotho</option><option value=\"LR\">Liberia</option><option value=\"LY\">Libya</option><option value=\"LI\">Liechtenstein</option><option value=\"LT\">Lithuania</option><option value=\"LU\">Luxembourg</option><option value=\"MO\">Macao, China</option><option value=\"MG\">Madagascar</option><option value=\"MW\">Malawi</option><option value=\"MY\">Malaysia</option><option value=\"MV\">Maldives</option><option value=\"ML\">Mali</option><option value=\"MT\">Malta</option><option value=\"MH\">Marshall Islands</option><option value=\"MR\">Mauritania</option><option value=\"MU\">Mauritius</option><option value=\"MX\">Mexico</option><option value=\"FM\">Micronesia, Federated States of</option><option value=\"MD\">Moldova</option><option value=\"MC\">Monaco</option><option value=\"MN\">Mongolia</option><option value=\"ME\">Montenegro</option><option value=\"MA\">Morocco</option><option value=\"MZ\">Mozambique</option><option value=\"MM\">Myanmar</option><option value=\"NA\">Namibia</option><option value=\"NR\">Nauru</option><option value=\"NP\">Nepal</option><option value=\"NL\">Netherlands</option><option value=\"NZ\">New Zealand</option><option value=\"NI\">Nicaragua</option><option value=\"NE\">Niger</option><option value=\"NG\">Nigeria</option><option value=\"MK\">North Macedonia</option><option value=\"NO\">Norway</option><option value=\"OM\">Oman</option><option value=\"PK\">Pakistan</option><option value=\"PW\">Palau</option><option value=\"PS\">Palestine, State of</option><option value=\"PA\">Panama</option><option value=\"PG\">Papua New Guinea</option><option value=\"PY\">Paraguay</option><option value=\"PE\">Peru</option><option value=\"PH\">Philippines</option><option value=\"PL\">Poland</option><option value=\"PT\">Portugal</option><option value=\"QA\">Qatar</option><option value=\"RO\">Romania</option><option value=\"RU\">Russia</option><option value=\"RW\">Rwanda</option><option value=\"KN\">Saint Kitts and Nevis</option><option value=\"LC\">Saint Lucia</option><option value=\"VC\">Saint Vincent and the Grenadines</option><option value=\"WS\">Samoa</option><option value=\"SM\">San Marino</option><option value=\"ST\">Sao Tome and Principe</option><option value=\"SA\">Saudi Arabia</option><option value=\"SN\">Senegal</option><option value=\"RS\">Serbia</option><option value=\"SC\">Seychelles</option><option value=\"SL\">Sierra Leone</option><option value=\"SG\">Singapore</option><option value=\"SK\">Slovakia</option><option value=\"SI\">Slovenia</option><option value=\"SB\">Solomon Islands</option><option value=\"SO\">Somalia</option><option value=\"ZA\">South Africa</option><option value=\"SS\">South Sudan</option><option value=\"ES\">Spain</option><option value=\"LK\">Sri Lanka</option><option value=\"916\">STL (Special Tribunal for Lebanon)</option><option value=\"SD\">Sudan</option><option value=\"SR\">Suriname</option><option value=\"SE\">Sweden</option><option value=\"CH\">Switzerland</option><option value=\"SY\">Syria</option><option value=\"TJ\">Tajikistan</option><option value=\"TZ\">Tanzania</option><option value=\"TH\">Thailand</option><option value=\"TL\">Timor-Leste</option><option value=\"TG\">Togo</option><option value=\"TO\">Tonga</option><option value=\"TT\">Trinidad and Tobago</option><option value=\"TN\">Tunisia</option><option value=\"TR\">Turkey</option><option value=\"TM\">Turkmenistan</option><option value=\"TC\">Turks and Caicos (Islands), United Kingdom</option><option value=\"TV\">Tuvalu</option><option value=\"UG\">Uganda</option><option value=\"UA\">Ukraine</option><option value=\"922\">UN IRMCT (United Nations International Residual Mechanism for Criminal Tribunals)</option><option value=\"UNK\">under UNMIK mandate (Kosovo)</option><option value=\"AE\">United Arab Emirates</option><option value=\"GB\">United Kingdom</option><option value=\"US\">United States</option><option value=\"UY\">Uruguay</option><option value=\"UZ\">Uzbekistan</option><option value=\"VU\">Vanuatu</option><option value=\"VA\">Vatican City State</option><option value=\"VE\">Venezuela</option><option value=\"VN\">Viet Nam</option><option value=\"YE\">Yemen</option><option value=\"ZM\">Zambia</option><option value=\"ZW\">Zimbabwe</option></select>\n",
        "```\n",
        "\n"
      ]
    },
    {
      "cell_type": "markdown",
      "metadata": {
        "id": "JrCT-oIG1OPr"
      },
      "source": [
        "Importing our libaries"
      ]
    },
    {
      "cell_type": "code",
      "metadata": {
        "colab": {
          "base_uri": "https://localhost:8080/"
        },
        "id": "p_56lvl6-cEA",
        "outputId": "d7c85c46-d004-4ba6-a278-cd79ad4ff8b9"
      },
      "source": [
        "#Module to Measure Progress\n",
        "!pip install tqdm "
      ],
      "execution_count": 2,
      "outputs": [
        {
          "output_type": "stream",
          "name": "stdout",
          "text": [
            "Requirement already satisfied: tqdm in /usr/local/lib/python3.7/dist-packages (4.62.2)\n"
          ]
        }
      ]
    },
    {
      "cell_type": "code",
      "metadata": {
        "id": "9kDTt-cogEN0"
      },
      "source": [
        "import requests\n",
        "import json\n",
        "from time import sleep\n",
        "import time\n",
        "from tqdm.auto import tqdm"
      ],
      "execution_count": 3,
      "outputs": []
    },
    {
      "cell_type": "markdown",
      "metadata": {
        "id": "0uS-fOZA1Q2d"
      },
      "source": [
        "Some fetching functions i made"
      ]
    },
    {
      "cell_type": "code",
      "metadata": {
        "id": "kqGSCOqqasb0"
      },
      "source": [
        "def returnResponse(link):\n",
        "  response = requests.get(link) \n",
        "  data = json.loads(response.content)\n",
        "  for keys,value in data.items():\n",
        "          if keys == '_embedded':\n",
        "              return value\n",
        "def GetPaginationLinks(link):\n",
        "  response = requests.get(link) \n",
        "  data = json.loads(response.content)\n",
        "  for keys,value in data.items():\n",
        "      if keys == '_links':\n",
        "        metadata = value\n",
        "        for keys,value in metadata.items():\n",
        "          if keys == 'next':\n",
        "            if value['href'] in paginationlinks:\n",
        "              return '0'\n",
        "            else:\n",
        "              paginationlinks.append(value['href'])\n",
        "              GetPaginationLinks(value['href'])\n",
        "    "
      ],
      "execution_count": 4,
      "outputs": []
    },
    {
      "cell_type": "markdown",
      "metadata": {
        "id": "4kwXjoLTHoq9"
      },
      "source": [
        "Data Engineering and cleaning"
      ]
    },
    {
      "cell_type": "code",
      "metadata": {
        "colab": {
          "base_uri": "https://localhost:8080/",
          "height": 49,
          "referenced_widgets": [
            "2d95b77ce36a47eea7bebac3587de804",
            "2f0d38b10c3e46f999495a98e5dbab81",
            "fd26114eeffe455383075b4b739ea800",
            "04b9389f31234d72b357cc63ab3ad2ab",
            "5a48ecdad37143d8970087febbb601b5",
            "6d0134cb58684a3b9eec7d0621278a58",
            "278723ef935c4d2085eab4225e22feb4",
            "9e6ced76104640e484bf7ed227797161",
            "abad957d60fb49629f6b04a683cbea9b",
            "64b7b29028e74de8ac662b04fa8ceb55",
            "76bcc476f7314f09a15c0efe83ebc3e2"
          ]
        },
        "id": "dyZADxzXMClu",
        "outputId": "72015961-34ff-451b-8d86-052449349f50"
      },
      "source": [
        "forename = []\n",
        "date_of_birth =[]\n",
        "entity_id = []\n",
        "nationalities = []\n",
        "name  =  []\n",
        "_links = []\n",
        "nameofcountrydb = []\n",
        "CountryNames=['Afghanistan','Albania','Algeria','American\\xa0Samoa,\\xa0United\\xa0States','Andorra','Angola','Anguilla,\\xa0United\\xa0Kingdom','Antigua\\xa0and\\xa0Barbuda','Argentina','Armenia','Australia','Austria','Azerbaijan','Bahamas','Bahrain','Bangladesh','Barbados','Belarus','Belgium','Belize','Benin','Bhutan','Bolivia','Bosnia\\xa0and\\xa0Herzegovina','Botswana','Brazil','Brunei','Bulgaria','Burkina\\xa0Faso','Burundi','Cambodia','Cameroon','Canada','Cape\\xa0Verde','Central\\xa0African\\xa0Republic','Chad','Chile','China','Colombia','Comoros','Congo','Congo\\xa0(Democratic\\xa0Republic\\xa0of)','Costa\\xa0Rica','Croatia','Cuba','Cyprus','Czech\\xa0Republic',\"Côte\\xa0d'Ivoire\",'Denmark','Djibouti','Dominica','Dominican\\xa0Republic','Ecuador','Egypt','El\\xa0Salvador','Equatorial\\xa0Guinea','Eritrea','Estonia','Eswatini','Ethiopia','Fiji','Finland','France','Gabon','Gambia','Georgia','Germany','Ghana','Greece','Grenada','Guatemala','Guinea','Guinea\\xa0Bissau','Guyana','Haiti','Honduras','Hungary','>ICC\\xa0(International\\xa0Criminal\\xa0Court)','Iceland','India','Indonesia','Iran','Iraq','Ireland','Israel','Italy','Jamaica','Japan','Jordan','Kazakhstan','Kenya','Kiribati',\"Korea\\xa0(Democratic\\xa0People's\\xa0Republic\\xa0of)\",'Korea\\xa0(Republic\\xa0of)','Kuwait','Kyrgyzstan','Laos','Latvia','Lebanon','Lesotho','Liberia','Libya','Liechtenstein','Lithuania','Luxembourg','Macao,\\xa0China','Madagascar','Malawi','Malaysia','Maldives','Mali','Malta','Marshall\\xa0Islands','Mauritania','Mauritius','Mexico','Micronesia,\\xa0Federated\\xa0States\\xa0of','Moldova','Monaco','Mongolia','Montenegro','Morocco','Mozambique','Myanmar','Namibia','Nauru','Nepal','Netherlands','New\\xa0Zealand','Nicaragua','Niger','Nigeria','North\\xa0Macedonia','Norway','Oman','Pakistan','Palau','Palestine,\\xa0State\\xa0of','Panama','Papua\\xa0New\\xa0Guinea','Paraguay','Peru','Philippines','Poland','Portugal','Qatar','Romania','Russia','Rwanda','Saint\\xa0Kitts\\xa0and\\xa0Nevis','Saint\\xa0Lucia','Saint\\xa0Vincent\\xa0and\\xa0the\\xa0Grenadines','Samoa','San\\xa0Marino','Sao\\xa0Tome\\xa0and\\xa0Principe','Saudi\\xa0Arabia','Senegal','Serbia','Seychelles','Sierra\\xa0Leone','Singapore','Slovakia','Slovenia','Solomon\\xa0Islands','Somalia','South\\xa0Africa','South\\xa0Sudan','Spain','Sri\\xa0Lanka','>STL\\xa0(Special\\xa0Tribunal\\xa0for\\xa0Lebanon)','Sudan','Suriname','Sweden','Switzerland','Syria','Tajikistan','Tanzania','Thailand','Timor-Leste','Togo','Tonga','Trinidad\\xa0and\\xa0Tobago','Tunisia','Turkey','Turkmenistan','Turks\\xa0and\\xa0Caicos\\xa0(Islands),\\xa0United\\xa0Kingdom','Tuvalu','Uganda','Ukraine','UN\\xa0IRMCT\\xa0(United\\xa0Nations\\xa0International\\xa0Residual\\xa0Mechanism\\xa0for\\xa0Criminal\\xa0Tribunals)','under\\xa0UNMIK\\xa0mandate\\xa0(Kosovo)','United\\xa0Arab\\xa0Emirates','United\\xa0Kingdom','United\\xa0States','Uruguay','Uzbekistan','Vanuatu','Vatican\\xa0City\\xa0State','Venezuela','Viet\\xa0Nam','Yemen','Zambia','Zimbabwe']\n",
        "CountryCodes=['DZ','AS','AD','AO','AI','AG','AR','AM','AU','AT','AZ','BS','BH','BD','BB','BY','BE','BZ','BJ','BT','BO','BA','BW','BR','BN','BG','BF','BI','KH','CM','CA','CV','CF','TD','CL','CN','CO','KM','CG','CD','CR','HR','CU','CY','CZ','CI','DK','DJ','DM','DO','EC','EG','SV','GQ','ER','EE','SZ','ET','FJ','FI','FR','GA','GM','GE','DE','GH','GR','GD','GT','GN','GW','GY','HT','HN','HU','914','IS','IN','ID','IR','IQ','IE','IL','IT','JM','JP','JO','KZ','KE','KI','KP','KR','KW','KG','LA','LV','LB','LS','LR','LY','LI','LT','LU','MO','MG','MW','MY','MV','ML','MT','MH','MR','MU','MX','FM','MD','MC','MN','ME','MA','MZ','MM','NA','NR','NP','NL','NZ','NI','NE','NG','MK','NO','OM','PK','PW','PS','PA','PG','PY','PE','PH','PL','PT','QA','RO','RU','RW','KN','LC','VC','WS','SM','ST','SA','SN','RS','SC','SL','SG','SK','SI','SB','SO','ZA','SS','ES','LK','916','SD','SR','SE','CH','SY','TJ','TZ','TH','TL','TG','TO','TT','TN','TR','TM','TC','TV','UG','UA','922','UNK','AE','GB','US','UY','UZ','VU','VA','VE','VN','YE','ZM','ZW']\n",
        "paginationlinks = []\n",
        "for index,countrycode in enumerate(tqdm(CountryCodes)):\n",
        "    url = 'https://ws-public.interpol.int/notices/v1/red?&nationality='+countrycode\n",
        "    bValid = False\n",
        "    while not bValid == True:\n",
        "      try:\n",
        "        GetPaginationLinks(url)\n",
        "        for link in paginationlinks:\n",
        "                  metadata = returnResponse(link)\n",
        "                  for key,value in metadata.items():\n",
        "                      for person in value:\n",
        "                          for title,data in person.items():\n",
        "                              nameofcountrydb.append(CountryNames[index])\n",
        "                              if title == 'forename':\n",
        "                                  forename.append(data)\n",
        "                              if title == 'date_of_birth':\n",
        "                                  date_of_birth.append(data)\n",
        "                              if title == 'entity_id':\n",
        "                                  entity_id.append(data)\n",
        "                              if title == 'nationalities':\n",
        "                                  nationalities.append(data)\n",
        "                              if title == 'name':\n",
        "                                  name.append(data)\n",
        "                              if title == '_links':\n",
        "                                  _links.append(data)\n",
        "          \n",
        "        bValid = True\n",
        "      except Exception as e:\n",
        "              pass\n",
        "      "
      ],
      "execution_count": null,
      "outputs": [
        {
          "output_type": "display_data",
          "data": {
            "application/vnd.jupyter.widget-view+json": {
              "model_id": "2d95b77ce36a47eea7bebac3587de804",
              "version_minor": 0,
              "version_major": 2
            },
            "text/plain": [
              "  0%|          | 0/201 [00:00<?, ?it/s]"
            ]
          },
          "metadata": {}
        }
      ]
    },
    {
      "cell_type": "markdown",
      "metadata": {
        "id": "bZNC8jxV-F-X"
      },
      "source": [
        "# Viewing our dataset"
      ]
    },
    {
      "cell_type": "code",
      "metadata": {
        "colab": {
          "base_uri": "https://localhost:8080/",
          "height": 420
        },
        "id": "0Ak1NEbu1rPa",
        "outputId": "52bd42e1-8c05-49ef-d414-41b1439e268f"
      },
      "source": [
        "import pandas as pd\n",
        "data = list(zip(entity_id,name,forename,date_of_birth,nationalities,nameofcountrydb))\n",
        "df = pd.DataFrame(data, columns = ['entity_id', 'name', 'forename','date_of_birth','nationalities','CountryDataset'])\n",
        "df"
      ],
      "execution_count": 18,
      "outputs": [
        {
          "output_type": "execute_result",
          "data": {
            "text/html": [
              "<div>\n",
              "<style scoped>\n",
              "    .dataframe tbody tr th:only-of-type {\n",
              "        vertical-align: middle;\n",
              "    }\n",
              "\n",
              "    .dataframe tbody tr th {\n",
              "        vertical-align: top;\n",
              "    }\n",
              "\n",
              "    .dataframe thead th {\n",
              "        text-align: right;\n",
              "    }\n",
              "</style>\n",
              "<table border=\"1\" class=\"dataframe\">\n",
              "  <thead>\n",
              "    <tr style=\"text-align: right;\">\n",
              "      <th></th>\n",
              "      <th>entity_id</th>\n",
              "      <th>name</th>\n",
              "      <th>forename</th>\n",
              "      <th>date_of_birth</th>\n",
              "      <th>nationalities</th>\n",
              "      <th>CountryDataset</th>\n",
              "    </tr>\n",
              "  </thead>\n",
              "  <tbody>\n",
              "    <tr>\n",
              "      <th>0</th>\n",
              "      <td>2021/30419</td>\n",
              "      <td>SANCHEZ</td>\n",
              "      <td>JOSE LUIS</td>\n",
              "      <td>1982/06/06</td>\n",
              "      <td>[AR]</td>\n",
              "      <td>Anguilla, United Kingdom</td>\n",
              "    </tr>\n",
              "    <tr>\n",
              "      <th>1</th>\n",
              "      <td>2021/30949</td>\n",
              "      <td>RAFFAULT</td>\n",
              "      <td>RODOLFO ROBERTO</td>\n",
              "      <td>1976/08/08</td>\n",
              "      <td>[AR]</td>\n",
              "      <td>Anguilla, United Kingdom</td>\n",
              "    </tr>\n",
              "    <tr>\n",
              "      <th>2</th>\n",
              "      <td>2021/26622</td>\n",
              "      <td>RIVEROS</td>\n",
              "      <td>NICOLÁS MAXIMILIANO</td>\n",
              "      <td>1994/11/28</td>\n",
              "      <td>[AR]</td>\n",
              "      <td>Anguilla, United Kingdom</td>\n",
              "    </tr>\n",
              "    <tr>\n",
              "      <th>3</th>\n",
              "      <td>2021/25251</td>\n",
              "      <td>SUAREZ</td>\n",
              "      <td>MARIANO NICOLAS</td>\n",
              "      <td>1997/06/19</td>\n",
              "      <td>[AR]</td>\n",
              "      <td>Anguilla, United Kingdom</td>\n",
              "    </tr>\n",
              "    <tr>\n",
              "      <th>4</th>\n",
              "      <td>2021/25249</td>\n",
              "      <td>RODRIGUEZ</td>\n",
              "      <td>LISANDRO</td>\n",
              "      <td>1996/05/30</td>\n",
              "      <td>[AR]</td>\n",
              "      <td>Anguilla, United Kingdom</td>\n",
              "    </tr>\n",
              "    <tr>\n",
              "      <th>...</th>\n",
              "      <td>...</td>\n",
              "      <td>...</td>\n",
              "      <td>...</td>\n",
              "      <td>...</td>\n",
              "      <td>...</td>\n",
              "      <td>...</td>\n",
              "    </tr>\n",
              "    <tr>\n",
              "      <th>25778</th>\n",
              "      <td>2017/175991</td>\n",
              "      <td>DOS SANTOS GOMES</td>\n",
              "      <td>WEMERSON</td>\n",
              "      <td>1979/06/01</td>\n",
              "      <td>[BR]</td>\n",
              "      <td>Bolivia</td>\n",
              "    </tr>\n",
              "    <tr>\n",
              "      <th>25779</th>\n",
              "      <td>2017/172734</td>\n",
              "      <td>DE SOUZA</td>\n",
              "      <td>FILIPE LUIZ</td>\n",
              "      <td>1987/10/24</td>\n",
              "      <td>[BR]</td>\n",
              "      <td>Bolivia</td>\n",
              "    </tr>\n",
              "    <tr>\n",
              "      <th>25780</th>\n",
              "      <td>2017/171892</td>\n",
              "      <td>FERREIRA CANTUARIA</td>\n",
              "      <td>VALTERSON</td>\n",
              "      <td>1988/09/04</td>\n",
              "      <td>[BR]</td>\n",
              "      <td>Bolivia</td>\n",
              "    </tr>\n",
              "    <tr>\n",
              "      <th>25781</th>\n",
              "      <td>2017/164303</td>\n",
              "      <td>COSTA VIEIRA</td>\n",
              "      <td>MARCIA LIZIANE</td>\n",
              "      <td>1985/09/20</td>\n",
              "      <td>[BR]</td>\n",
              "      <td>Bolivia</td>\n",
              "    </tr>\n",
              "    <tr>\n",
              "      <th>25782</th>\n",
              "      <td>2017/148369</td>\n",
              "      <td>VIEIRA RANGEL</td>\n",
              "      <td>VAUDAIR</td>\n",
              "      <td>1965/04/19</td>\n",
              "      <td>[BR]</td>\n",
              "      <td>Bolivia</td>\n",
              "    </tr>\n",
              "  </tbody>\n",
              "</table>\n",
              "<p>25783 rows × 6 columns</p>\n",
              "</div>"
            ],
            "text/plain": [
              "         entity_id                name  ... nationalities            CountryDataset\n",
              "0       2021/30419             SANCHEZ  ...          [AR]  Anguilla, United Kingdom\n",
              "1       2021/30949            RAFFAULT  ...          [AR]  Anguilla, United Kingdom\n",
              "2       2021/26622             RIVEROS  ...          [AR]  Anguilla, United Kingdom\n",
              "3       2021/25251              SUAREZ  ...          [AR]  Anguilla, United Kingdom\n",
              "4       2021/25249           RODRIGUEZ  ...          [AR]  Anguilla, United Kingdom\n",
              "...            ...                 ...  ...           ...                       ...\n",
              "25778  2017/175991    DOS SANTOS GOMES  ...          [BR]                   Bolivia\n",
              "25779  2017/172734            DE SOUZA  ...          [BR]                   Bolivia\n",
              "25780  2017/171892  FERREIRA CANTUARIA  ...          [BR]                   Bolivia\n",
              "25781  2017/164303        COSTA VIEIRA  ...          [BR]                   Bolivia\n",
              "25782  2017/148369       VIEIRA RANGEL  ...          [BR]                   Bolivia\n",
              "\n",
              "[25783 rows x 6 columns]"
            ]
          },
          "metadata": {},
          "execution_count": 18
        }
      ]
    },
    {
      "cell_type": "markdown",
      "metadata": {
        "id": "kBRDskFuaWai"
      },
      "source": [
        "#### Author : Ashlin Darius Govindasamy"
      ]
    }
  ]
}