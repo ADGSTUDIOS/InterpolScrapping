{
  "nbformat": 4,
  "nbformat_minor": 0,
  "metadata": {
    "colab": {
      "name": "interpolscrapping.ipynb",
      "provenance": [],
      "collapsed_sections": [],
      "authorship_tag": "ABX9TyNKKjdASkpokYTZgvuQOCdY",
      "include_colab_link": true
    },
    "kernelspec": {
      "name": "python3",
      "display_name": "Python 3"
    },
    "language_info": {
      "name": "python"
    },
    "widgets": {
      "application/vnd.jupyter.widget-state+json": {
        "6056649508ab4d1c8ec7f5e8e070d9d3": {
          "model_module": "@jupyter-widgets/controls",
          "model_name": "HBoxModel",
          "model_module_version": "1.5.0",
          "state": {
            "_view_name": "HBoxView",
            "_dom_classes": [],
            "_model_name": "HBoxModel",
            "_view_module": "@jupyter-widgets/controls",
            "_model_module_version": "1.5.0",
            "_view_count": null,
            "_view_module_version": "1.5.0",
            "box_style": "",
            "layout": "IPY_MODEL_8a473ddf9496411ea11a67bd08e48429",
            "_model_module": "@jupyter-widgets/controls",
            "children": [
              "IPY_MODEL_0eba2666461f4098a7b48bf2200e08cf",
              "IPY_MODEL_e2f7fab9822d4d9b985e83169c8c76f8",
              "IPY_MODEL_48fe0ba7e6814211aea092177bbcf191"
            ]
          }
        },
        "8a473ddf9496411ea11a67bd08e48429": {
          "model_module": "@jupyter-widgets/base",
          "model_name": "LayoutModel",
          "model_module_version": "1.2.0",
          "state": {
            "_view_name": "LayoutView",
            "grid_template_rows": null,
            "right": null,
            "justify_content": null,
            "_view_module": "@jupyter-widgets/base",
            "overflow": null,
            "_model_module_version": "1.2.0",
            "_view_count": null,
            "flex_flow": null,
            "width": null,
            "min_width": null,
            "border": null,
            "align_items": null,
            "bottom": null,
            "_model_module": "@jupyter-widgets/base",
            "top": null,
            "grid_column": null,
            "overflow_y": null,
            "overflow_x": null,
            "grid_auto_flow": null,
            "grid_area": null,
            "grid_template_columns": null,
            "flex": null,
            "_model_name": "LayoutModel",
            "justify_items": null,
            "grid_row": null,
            "max_height": null,
            "align_content": null,
            "visibility": null,
            "align_self": null,
            "height": null,
            "min_height": null,
            "padding": null,
            "grid_auto_rows": null,
            "grid_gap": null,
            "max_width": null,
            "order": null,
            "_view_module_version": "1.2.0",
            "grid_template_areas": null,
            "object_position": null,
            "object_fit": null,
            "grid_auto_columns": null,
            "margin": null,
            "display": null,
            "left": null
          }
        },
        "0eba2666461f4098a7b48bf2200e08cf": {
          "model_module": "@jupyter-widgets/controls",
          "model_name": "HTMLModel",
          "model_module_version": "1.5.0",
          "state": {
            "_view_name": "HTMLView",
            "style": "IPY_MODEL_add4ba3321574cbb84304b34a8d56b52",
            "_dom_classes": [],
            "description": "",
            "_model_name": "HTMLModel",
            "placeholder": "​",
            "_view_module": "@jupyter-widgets/controls",
            "_model_module_version": "1.5.0",
            "value": " 50%",
            "_view_count": null,
            "_view_module_version": "1.5.0",
            "description_tooltip": null,
            "_model_module": "@jupyter-widgets/controls",
            "layout": "IPY_MODEL_a7df68b29cca430ca34f570d42419d3c"
          }
        },
        "e2f7fab9822d4d9b985e83169c8c76f8": {
          "model_module": "@jupyter-widgets/controls",
          "model_name": "FloatProgressModel",
          "model_module_version": "1.5.0",
          "state": {
            "_view_name": "ProgressView",
            "style": "IPY_MODEL_dbe5fc8b2bdf49149e56eef7a4e9e1b3",
            "_dom_classes": [],
            "description": "",
            "_model_name": "FloatProgressModel",
            "bar_style": "danger",
            "max": 201,
            "_view_module": "@jupyter-widgets/controls",
            "_model_module_version": "1.5.0",
            "value": 101,
            "_view_count": null,
            "_view_module_version": "1.5.0",
            "orientation": "horizontal",
            "min": 0,
            "description_tooltip": null,
            "_model_module": "@jupyter-widgets/controls",
            "layout": "IPY_MODEL_dbf4ddc467c045fe9b5631c6e1c67a77"
          }
        },
        "48fe0ba7e6814211aea092177bbcf191": {
          "model_module": "@jupyter-widgets/controls",
          "model_name": "HTMLModel",
          "model_module_version": "1.5.0",
          "state": {
            "_view_name": "HTMLView",
            "style": "IPY_MODEL_9b17d9d18eb54b459f52356d2070bf3d",
            "_dom_classes": [],
            "description": "",
            "_model_name": "HTMLModel",
            "placeholder": "​",
            "_view_module": "@jupyter-widgets/controls",
            "_model_module_version": "1.5.0",
            "value": " 101/201 [00:04&lt;00:04, 24.14it/s]",
            "_view_count": null,
            "_view_module_version": "1.5.0",
            "description_tooltip": null,
            "_model_module": "@jupyter-widgets/controls",
            "layout": "IPY_MODEL_ee12be0769ce4f6197bbaf8840fd87bc"
          }
        },
        "add4ba3321574cbb84304b34a8d56b52": {
          "model_module": "@jupyter-widgets/controls",
          "model_name": "DescriptionStyleModel",
          "model_module_version": "1.5.0",
          "state": {
            "_view_name": "StyleView",
            "_model_name": "DescriptionStyleModel",
            "description_width": "",
            "_view_module": "@jupyter-widgets/base",
            "_model_module_version": "1.5.0",
            "_view_count": null,
            "_view_module_version": "1.2.0",
            "_model_module": "@jupyter-widgets/controls"
          }
        },
        "a7df68b29cca430ca34f570d42419d3c": {
          "model_module": "@jupyter-widgets/base",
          "model_name": "LayoutModel",
          "model_module_version": "1.2.0",
          "state": {
            "_view_name": "LayoutView",
            "grid_template_rows": null,
            "right": null,
            "justify_content": null,
            "_view_module": "@jupyter-widgets/base",
            "overflow": null,
            "_model_module_version": "1.2.0",
            "_view_count": null,
            "flex_flow": null,
            "width": null,
            "min_width": null,
            "border": null,
            "align_items": null,
            "bottom": null,
            "_model_module": "@jupyter-widgets/base",
            "top": null,
            "grid_column": null,
            "overflow_y": null,
            "overflow_x": null,
            "grid_auto_flow": null,
            "grid_area": null,
            "grid_template_columns": null,
            "flex": null,
            "_model_name": "LayoutModel",
            "justify_items": null,
            "grid_row": null,
            "max_height": null,
            "align_content": null,
            "visibility": null,
            "align_self": null,
            "height": null,
            "min_height": null,
            "padding": null,
            "grid_auto_rows": null,
            "grid_gap": null,
            "max_width": null,
            "order": null,
            "_view_module_version": "1.2.0",
            "grid_template_areas": null,
            "object_position": null,
            "object_fit": null,
            "grid_auto_columns": null,
            "margin": null,
            "display": null,
            "left": null
          }
        },
        "dbe5fc8b2bdf49149e56eef7a4e9e1b3": {
          "model_module": "@jupyter-widgets/controls",
          "model_name": "ProgressStyleModel",
          "model_module_version": "1.5.0",
          "state": {
            "_view_name": "StyleView",
            "_model_name": "ProgressStyleModel",
            "description_width": "",
            "_view_module": "@jupyter-widgets/base",
            "_model_module_version": "1.5.0",
            "_view_count": null,
            "_view_module_version": "1.2.0",
            "bar_color": null,
            "_model_module": "@jupyter-widgets/controls"
          }
        },
        "dbf4ddc467c045fe9b5631c6e1c67a77": {
          "model_module": "@jupyter-widgets/base",
          "model_name": "LayoutModel",
          "model_module_version": "1.2.0",
          "state": {
            "_view_name": "LayoutView",
            "grid_template_rows": null,
            "right": null,
            "justify_content": null,
            "_view_module": "@jupyter-widgets/base",
            "overflow": null,
            "_model_module_version": "1.2.0",
            "_view_count": null,
            "flex_flow": null,
            "width": null,
            "min_width": null,
            "border": null,
            "align_items": null,
            "bottom": null,
            "_model_module": "@jupyter-widgets/base",
            "top": null,
            "grid_column": null,
            "overflow_y": null,
            "overflow_x": null,
            "grid_auto_flow": null,
            "grid_area": null,
            "grid_template_columns": null,
            "flex": null,
            "_model_name": "LayoutModel",
            "justify_items": null,
            "grid_row": null,
            "max_height": null,
            "align_content": null,
            "visibility": null,
            "align_self": null,
            "height": null,
            "min_height": null,
            "padding": null,
            "grid_auto_rows": null,
            "grid_gap": null,
            "max_width": null,
            "order": null,
            "_view_module_version": "1.2.0",
            "grid_template_areas": null,
            "object_position": null,
            "object_fit": null,
            "grid_auto_columns": null,
            "margin": null,
            "display": null,
            "left": null
          }
        },
        "9b17d9d18eb54b459f52356d2070bf3d": {
          "model_module": "@jupyter-widgets/controls",
          "model_name": "DescriptionStyleModel",
          "model_module_version": "1.5.0",
          "state": {
            "_view_name": "StyleView",
            "_model_name": "DescriptionStyleModel",
            "description_width": "",
            "_view_module": "@jupyter-widgets/base",
            "_model_module_version": "1.5.0",
            "_view_count": null,
            "_view_module_version": "1.2.0",
            "_model_module": "@jupyter-widgets/controls"
          }
        },
        "ee12be0769ce4f6197bbaf8840fd87bc": {
          "model_module": "@jupyter-widgets/base",
          "model_name": "LayoutModel",
          "model_module_version": "1.2.0",
          "state": {
            "_view_name": "LayoutView",
            "grid_template_rows": null,
            "right": null,
            "justify_content": null,
            "_view_module": "@jupyter-widgets/base",
            "overflow": null,
            "_model_module_version": "1.2.0",
            "_view_count": null,
            "flex_flow": null,
            "width": null,
            "min_width": null,
            "border": null,
            "align_items": null,
            "bottom": null,
            "_model_module": "@jupyter-widgets/base",
            "top": null,
            "grid_column": null,
            "overflow_y": null,
            "overflow_x": null,
            "grid_auto_flow": null,
            "grid_area": null,
            "grid_template_columns": null,
            "flex": null,
            "_model_name": "LayoutModel",
            "justify_items": null,
            "grid_row": null,
            "max_height": null,
            "align_content": null,
            "visibility": null,
            "align_self": null,
            "height": null,
            "min_height": null,
            "padding": null,
            "grid_auto_rows": null,
            "grid_gap": null,
            "max_width": null,
            "order": null,
            "_view_module_version": "1.2.0",
            "grid_template_areas": null,
            "object_position": null,
            "object_fit": null,
            "grid_auto_columns": null,
            "margin": null,
            "display": null,
            "left": null
          }
        }
      }
    }
  },
  "cells": [
    {
      "cell_type": "markdown",
      "metadata": {
        "id": "view-in-github",
        "colab_type": "text"
      },
      "source": [
        "<a href=\"https://colab.research.google.com/github/ADGSTUDIOS/InterpolScrapping/blob/main/interpolscrapping.ipynb\" target=\"_parent\"><img src=\"https://colab.research.google.com/assets/colab-badge.svg\" alt=\"Open In Colab\"/></a>"
      ]
    },
    {
      "cell_type": "markdown",
      "metadata": {
        "id": "TGaEJv6kLeWU"
      },
      "source": [
        "# ADGSTUDIOS Solution for scrapping"
      ]
    },
    {
      "cell_type": "markdown",
      "metadata": {
        "id": "71tiPdi7J1oK"
      },
      "source": [
        "# Interpol uses RestAPI "
      ]
    },
    {
      "cell_type": "markdown",
      "metadata": {
        "id": "fPC74hKvKMOx"
      },
      "source": [
        "# Data Engineering Plan \n",
        "\n",
        "Approach A - Scrape all data and put it into database\n",
        "\n",
        "Approach B - Just run queries using their RestAPI, when user uses that it will then insert into database\n",
        "\n",
        "I have reversed Engineered their website to execute queries on Database look at example below"
      ]
    },
    {
      "cell_type": "markdown",
      "metadata": {
        "id": "0rlmDnomKybh"
      },
      "source": [
        "They API is not advertised publicly, after investigation i found their responses.\n",
        "\n",
        "Update they have a system that soft blocks your IP Address for a while when excessively using the website"
      ]
    },
    {
      "cell_type": "markdown",
      "metadata": {
        "id": "zv2fIgYeLUNU"
      },
      "source": [
        "*We can scrape using all the nationalities*"
      ]
    },
    {
      "cell_type": "markdown",
      "metadata": {
        "id": "osvn7QWOLPAG"
      },
      "source": [
        "\n",
        "\n",
        "```\n",
        "<select id=\"nationality\" name=\"nationality\" class=\"generalForm__selectArea\">\n",
        "        <option></option><option value=\"AF\">Afghanistan</option><option value=\"AL\">Albania</option><option value=\"DZ\">Algeria</option><option value=\"AS\">American Samoa, United States</option><option value=\"AD\">Andorra</option><option value=\"AO\">Angola</option><option value=\"AI\">Anguilla, United Kingdom</option><option value=\"AG\">Antigua and Barbuda</option><option value=\"AR\">Argentina</option><option value=\"AM\">Armenia</option><option value=\"AU\">Australia</option><option value=\"AT\">Austria</option><option value=\"AZ\">Azerbaijan</option><option value=\"BS\">Bahamas</option><option value=\"BH\">Bahrain</option><option value=\"BD\">Bangladesh</option><option value=\"BB\">Barbados</option><option value=\"BY\">Belarus</option><option value=\"BE\">Belgium</option><option value=\"BZ\">Belize</option><option value=\"BJ\">Benin</option><option value=\"BT\">Bhutan</option><option value=\"BO\">Bolivia</option><option value=\"BA\">Bosnia and Herzegovina</option><option value=\"BW\">Botswana</option><option value=\"BR\">Brazil</option><option value=\"BN\">Brunei </option><option value=\"BG\">Bulgaria</option><option value=\"BF\">Burkina Faso</option><option value=\"BI\">Burundi</option><option value=\"KH\">Cambodia</option><option value=\"CM\">Cameroon</option><option value=\"CA\">Canada</option><option value=\"CV\">Cape Verde</option><option value=\"CF\">Central African Republic</option><option value=\"TD\">Chad</option><option value=\"CL\">Chile</option><option value=\"CN\">China</option><option value=\"CO\">Colombia</option><option value=\"KM\">Comoros</option><option value=\"CG\">Congo</option><option value=\"CD\">Congo (Democratic Republic of)</option><option value=\"CR\">Costa Rica</option><option value=\"HR\">Croatia</option><option value=\"CU\">Cuba</option><option value=\"CY\">Cyprus</option><option value=\"CZ\">Czech Republic</option><option value=\"CI\">Côte d'Ivoire</option><option value=\"DK\">Denmark</option><option value=\"DJ\">Djibouti</option><option value=\"DM\">Dominica</option><option value=\"DO\">Dominican Republic</option><option value=\"EC\">Ecuador</option><option value=\"EG\">Egypt</option><option value=\"SV\">El Salvador</option><option value=\"GQ\">Equatorial Guinea</option><option value=\"ER\">Eritrea</option><option value=\"EE\">Estonia</option><option value=\"SZ\">Eswatini</option><option value=\"ET\">Ethiopia</option><option value=\"FJ\">Fiji</option><option value=\"FI\">Finland</option><option value=\"FR\">France</option><option value=\"GA\">Gabon</option><option value=\"GM\">Gambia</option><option value=\"GE\">Georgia</option><option value=\"DE\">Germany</option><option value=\"GH\">Ghana</option><option value=\"GR\">Greece</option><option value=\"GD\">Grenada</option><option value=\"GT\">Guatemala</option><option value=\"GN\">Guinea</option><option value=\"GW\">Guinea Bissau</option><option value=\"GY\">Guyana</option><option value=\"HT\">Haiti</option><option value=\"HN\">Honduras</option><option value=\"HU\">Hungary</option><option value=\"914\">ICC (International Criminal Court)</option><option value=\"IS\">Iceland</option><option value=\"IN\">India</option><option value=\"ID\">Indonesia</option><option value=\"IR\">Iran</option><option value=\"IQ\">Iraq</option><option value=\"IE\">Ireland</option><option value=\"IL\">Israel</option><option value=\"IT\">Italy</option><option value=\"JM\">Jamaica</option><option value=\"JP\">Japan</option><option value=\"JO\">Jordan</option><option value=\"KZ\">Kazakhstan</option><option value=\"KE\">Kenya</option><option value=\"KI\">Kiribati</option><option value=\"KP\">Korea (Democratic People's Republic of)</option><option value=\"KR\">Korea (Republic of)</option><option value=\"KW\">Kuwait</option><option value=\"KG\">Kyrgyzstan</option><option value=\"LA\">Laos</option><option value=\"LV\">Latvia</option><option value=\"LB\">Lebanon</option><option value=\"LS\">Lesotho</option><option value=\"LR\">Liberia</option><option value=\"LY\">Libya</option><option value=\"LI\">Liechtenstein</option><option value=\"LT\">Lithuania</option><option value=\"LU\">Luxembourg</option><option value=\"MO\">Macao, China</option><option value=\"MG\">Madagascar</option><option value=\"MW\">Malawi</option><option value=\"MY\">Malaysia</option><option value=\"MV\">Maldives</option><option value=\"ML\">Mali</option><option value=\"MT\">Malta</option><option value=\"MH\">Marshall Islands</option><option value=\"MR\">Mauritania</option><option value=\"MU\">Mauritius</option><option value=\"MX\">Mexico</option><option value=\"FM\">Micronesia, Federated States of</option><option value=\"MD\">Moldova</option><option value=\"MC\">Monaco</option><option value=\"MN\">Mongolia</option><option value=\"ME\">Montenegro</option><option value=\"MA\">Morocco</option><option value=\"MZ\">Mozambique</option><option value=\"MM\">Myanmar</option><option value=\"NA\">Namibia</option><option value=\"NR\">Nauru</option><option value=\"NP\">Nepal</option><option value=\"NL\">Netherlands</option><option value=\"NZ\">New Zealand</option><option value=\"NI\">Nicaragua</option><option value=\"NE\">Niger</option><option value=\"NG\">Nigeria</option><option value=\"MK\">North Macedonia</option><option value=\"NO\">Norway</option><option value=\"OM\">Oman</option><option value=\"PK\">Pakistan</option><option value=\"PW\">Palau</option><option value=\"PS\">Palestine, State of</option><option value=\"PA\">Panama</option><option value=\"PG\">Papua New Guinea</option><option value=\"PY\">Paraguay</option><option value=\"PE\">Peru</option><option value=\"PH\">Philippines</option><option value=\"PL\">Poland</option><option value=\"PT\">Portugal</option><option value=\"QA\">Qatar</option><option value=\"RO\">Romania</option><option value=\"RU\">Russia</option><option value=\"RW\">Rwanda</option><option value=\"KN\">Saint Kitts and Nevis</option><option value=\"LC\">Saint Lucia</option><option value=\"VC\">Saint Vincent and the Grenadines</option><option value=\"WS\">Samoa</option><option value=\"SM\">San Marino</option><option value=\"ST\">Sao Tome and Principe</option><option value=\"SA\">Saudi Arabia</option><option value=\"SN\">Senegal</option><option value=\"RS\">Serbia</option><option value=\"SC\">Seychelles</option><option value=\"SL\">Sierra Leone</option><option value=\"SG\">Singapore</option><option value=\"SK\">Slovakia</option><option value=\"SI\">Slovenia</option><option value=\"SB\">Solomon Islands</option><option value=\"SO\">Somalia</option><option value=\"ZA\">South Africa</option><option value=\"SS\">South Sudan</option><option value=\"ES\">Spain</option><option value=\"LK\">Sri Lanka</option><option value=\"916\">STL (Special Tribunal for Lebanon)</option><option value=\"SD\">Sudan</option><option value=\"SR\">Suriname</option><option value=\"SE\">Sweden</option><option value=\"CH\">Switzerland</option><option value=\"SY\">Syria</option><option value=\"TJ\">Tajikistan</option><option value=\"TZ\">Tanzania</option><option value=\"TH\">Thailand</option><option value=\"TL\">Timor-Leste</option><option value=\"TG\">Togo</option><option value=\"TO\">Tonga</option><option value=\"TT\">Trinidad and Tobago</option><option value=\"TN\">Tunisia</option><option value=\"TR\">Turkey</option><option value=\"TM\">Turkmenistan</option><option value=\"TC\">Turks and Caicos (Islands), United Kingdom</option><option value=\"TV\">Tuvalu</option><option value=\"UG\">Uganda</option><option value=\"UA\">Ukraine</option><option value=\"922\">UN IRMCT (United Nations International Residual Mechanism for Criminal Tribunals)</option><option value=\"UNK\">under UNMIK mandate (Kosovo)</option><option value=\"AE\">United Arab Emirates</option><option value=\"GB\">United Kingdom</option><option value=\"US\">United States</option><option value=\"UY\">Uruguay</option><option value=\"UZ\">Uzbekistan</option><option value=\"VU\">Vanuatu</option><option value=\"VA\">Vatican City State</option><option value=\"VE\">Venezuela</option><option value=\"VN\">Viet Nam</option><option value=\"YE\">Yemen</option><option value=\"ZM\">Zambia</option><option value=\"ZW\">Zimbabwe</option></select>\n",
        "```\n",
        "\n"
      ]
    },
    {
      "cell_type": "markdown",
      "metadata": {
        "id": "JrCT-oIG1OPr"
      },
      "source": [
        "Importing our libaries"
      ]
    },
    {
      "cell_type": "code",
      "metadata": {
        "colab": {
          "base_uri": "https://localhost:8080/"
        },
        "id": "p_56lvl6-cEA",
        "outputId": "d7c85c46-d004-4ba6-a278-cd79ad4ff8b9"
      },
      "source": [
        "#Module to Measure Progress\n",
        "!pip install tqdm "
      ],
      "execution_count": 2,
      "outputs": [
        {
          "output_type": "stream",
          "name": "stdout",
          "text": [
            "Requirement already satisfied: tqdm in /usr/local/lib/python3.7/dist-packages (4.62.2)\n"
          ]
        }
      ]
    },
    {
      "cell_type": "code",
      "metadata": {
        "id": "9kDTt-cogEN0"
      },
      "source": [
        "import requests\n",
        "import json\n",
        "from time import sleep\n",
        "import time\n",
        "from tqdm.auto import tqdm"
      ],
      "execution_count": 3,
      "outputs": []
    },
    {
      "cell_type": "markdown",
      "metadata": {
        "id": "0uS-fOZA1Q2d"
      },
      "source": [
        "Some fetching functions i made"
      ]
    },
    {
      "cell_type": "code",
      "metadata": {
        "id": "kqGSCOqqasb0"
      },
      "source": [
        "def returnResponse(link):\n",
        "  response = requests.get(link) \n",
        "  data = json.loads(response.content)\n",
        "  for keys,value in data.items():\n",
        "          if keys == '_embedded':\n",
        "              return value\n",
        "def GetPaginationLinks(link):\n",
        "  response = requests.get(link) \n",
        "  data = json.loads(response.content)\n",
        "  for keys,value in data.items():\n",
        "      if keys == '_links':\n",
        "        metadata = value\n",
        "        for keys,value in metadata.items():\n",
        "          if keys == 'next':\n",
        "            if value['href'] in paginationlinks:\n",
        "              return '0'\n",
        "            else:\n",
        "              paginationlinks.append(value['href'])\n",
        "              GetPaginationLinks(value['href'])\n",
        "    "
      ],
      "execution_count": 4,
      "outputs": []
    },
    {
      "cell_type": "markdown",
      "metadata": {
        "id": "4kwXjoLTHoq9"
      },
      "source": [
        "Data Engineering and cleaning"
      ]
    },
    {
      "cell_type": "code",
      "metadata": {
        "colab": {
          "base_uri": "https://localhost:8080/",
          "height": 1000,
          "referenced_widgets": [
            "6056649508ab4d1c8ec7f5e8e070d9d3",
            "8a473ddf9496411ea11a67bd08e48429",
            "0eba2666461f4098a7b48bf2200e08cf",
            "e2f7fab9822d4d9b985e83169c8c76f8",
            "48fe0ba7e6814211aea092177bbcf191",
            "add4ba3321574cbb84304b34a8d56b52",
            "a7df68b29cca430ca34f570d42419d3c",
            "dbe5fc8b2bdf49149e56eef7a4e9e1b3",
            "dbf4ddc467c045fe9b5631c6e1c67a77",
            "9b17d9d18eb54b459f52356d2070bf3d",
            "ee12be0769ce4f6197bbaf8840fd87bc"
          ]
        },
        "id": "dyZADxzXMClu",
        "outputId": "b160d019-8fea-4808-bec6-f85ffbaa57ec"
      },
      "source": [
        "forename = []\n",
        "date_of_birth =[]\n",
        "entity_id = []\n",
        "nationalities = []\n",
        "name  =  []\n",
        "_links = []\n",
        "nameofcountrydb = []\n",
        "CountryNames=['Afghanistan','Albania','Algeria','American\\xa0Samoa,\\xa0United\\xa0States','Andorra','Angola','Anguilla,\\xa0United\\xa0Kingdom','Antigua\\xa0and\\xa0Barbuda','Argentina','Armenia','Australia','Austria','Azerbaijan','Bahamas','Bahrain','Bangladesh','Barbados','Belarus','Belgium','Belize','Benin','Bhutan','Bolivia','Bosnia\\xa0and\\xa0Herzegovina','Botswana','Brazil','Brunei','Bulgaria','Burkina\\xa0Faso','Burundi','Cambodia','Cameroon','Canada','Cape\\xa0Verde','Central\\xa0African\\xa0Republic','Chad','Chile','China','Colombia','Comoros','Congo','Congo\\xa0(Democratic\\xa0Republic\\xa0of)','Costa\\xa0Rica','Croatia','Cuba','Cyprus','Czech\\xa0Republic',\"Côte\\xa0d'Ivoire\",'Denmark','Djibouti','Dominica','Dominican\\xa0Republic','Ecuador','Egypt','El\\xa0Salvador','Equatorial\\xa0Guinea','Eritrea','Estonia','Eswatini','Ethiopia','Fiji','Finland','France','Gabon','Gambia','Georgia','Germany','Ghana','Greece','Grenada','Guatemala','Guinea','Guinea\\xa0Bissau','Guyana','Haiti','Honduras','Hungary','>ICC\\xa0(International\\xa0Criminal\\xa0Court)','Iceland','India','Indonesia','Iran','Iraq','Ireland','Israel','Italy','Jamaica','Japan','Jordan','Kazakhstan','Kenya','Kiribati',\"Korea\\xa0(Democratic\\xa0People's\\xa0Republic\\xa0of)\",'Korea\\xa0(Republic\\xa0of)','Kuwait','Kyrgyzstan','Laos','Latvia','Lebanon','Lesotho','Liberia','Libya','Liechtenstein','Lithuania','Luxembourg','Macao,\\xa0China','Madagascar','Malawi','Malaysia','Maldives','Mali','Malta','Marshall\\xa0Islands','Mauritania','Mauritius','Mexico','Micronesia,\\xa0Federated\\xa0States\\xa0of','Moldova','Monaco','Mongolia','Montenegro','Morocco','Mozambique','Myanmar','Namibia','Nauru','Nepal','Netherlands','New\\xa0Zealand','Nicaragua','Niger','Nigeria','North\\xa0Macedonia','Norway','Oman','Pakistan','Palau','Palestine,\\xa0State\\xa0of','Panama','Papua\\xa0New\\xa0Guinea','Paraguay','Peru','Philippines','Poland','Portugal','Qatar','Romania','Russia','Rwanda','Saint\\xa0Kitts\\xa0and\\xa0Nevis','Saint\\xa0Lucia','Saint\\xa0Vincent\\xa0and\\xa0the\\xa0Grenadines','Samoa','San\\xa0Marino','Sao\\xa0Tome\\xa0and\\xa0Principe','Saudi\\xa0Arabia','Senegal','Serbia','Seychelles','Sierra\\xa0Leone','Singapore','Slovakia','Slovenia','Solomon\\xa0Islands','Somalia','South\\xa0Africa','South\\xa0Sudan','Spain','Sri\\xa0Lanka','>STL\\xa0(Special\\xa0Tribunal\\xa0for\\xa0Lebanon)','Sudan','Suriname','Sweden','Switzerland','Syria','Tajikistan','Tanzania','Thailand','Timor-Leste','Togo','Tonga','Trinidad\\xa0and\\xa0Tobago','Tunisia','Turkey','Turkmenistan','Turks\\xa0and\\xa0Caicos\\xa0(Islands),\\xa0United\\xa0Kingdom','Tuvalu','Uganda','Ukraine','UN\\xa0IRMCT\\xa0(United\\xa0Nations\\xa0International\\xa0Residual\\xa0Mechanism\\xa0for\\xa0Criminal\\xa0Tribunals)','under\\xa0UNMIK\\xa0mandate\\xa0(Kosovo)','United\\xa0Arab\\xa0Emirates','United\\xa0Kingdom','United\\xa0States','Uruguay','Uzbekistan','Vanuatu','Vatican\\xa0City\\xa0State','Venezuela','Viet\\xa0Nam','Yemen','Zambia','Zimbabwe']\n",
        "CountryCodes=['DZ','AS','AD','AO','AI','AG','AR','AM','AU','AT','AZ','BS','BH','BD','BB','BY','BE','BZ','BJ','BT','BO','BA','BW','BR','BN','BG','BF','BI','KH','CM','CA','CV','CF','TD','CL','CN','CO','KM','CG','CD','CR','HR','CU','CY','CZ','CI','DK','DJ','DM','DO','EC','EG','SV','GQ','ER','EE','SZ','ET','FJ','FI','FR','GA','GM','GE','DE','GH','GR','GD','GT','GN','GW','GY','HT','HN','HU','914','IS','IN','ID','IR','IQ','IE','IL','IT','JM','JP','JO','KZ','KE','KI','KP','KR','KW','KG','LA','LV','LB','LS','LR','LY','LI','LT','LU','MO','MG','MW','MY','MV','ML','MT','MH','MR','MU','MX','FM','MD','MC','MN','ME','MA','MZ','MM','NA','NR','NP','NL','NZ','NI','NE','NG','MK','NO','OM','PK','PW','PS','PA','PG','PY','PE','PH','PL','PT','QA','RO','RU','RW','KN','LC','VC','WS','SM','ST','SA','SN','RS','SC','SL','SG','SK','SI','SB','SO','ZA','SS','ES','LK','916','SD','SR','SE','CH','SY','TJ','TZ','TH','TL','TG','TO','TT','TN','TR','TM','TC','TV','UG','UA','922','UNK','AE','GB','US','UY','UZ','VU','VA','VE','VN','YE','ZM','ZW']\n",
        "paginationlinks = []\n",
        "for index,countrycode in enumerate(tqdm(CountryCodes)):\n",
        "    url = 'https://ws-public.interpol.int/notices/v1/red?&nationality='+countrycode\n",
        "    try:\n",
        "      GetPaginationLinks(url)\n",
        "      for link in paginationlinks:\n",
        "              metadata = returnResponse(link)\n",
        "              for key,value in metadata.items():\n",
        "                  for person in value:\n",
        "                      for title,data in person.items():\n",
        "                          nameofcountrydb.append(CountryNames[index])\n",
        "                          if title == 'forename':\n",
        "                              forename.append(data)\n",
        "                          if title == 'date_of_birth':\n",
        "                              date_of_birth.append(data)\n",
        "                          if title == 'entity_id':\n",
        "                              entity_id.append(data)\n",
        "                          if title == 'nationalities':\n",
        "                              nationalities.append(data)\n",
        "                          if title == 'name':\n",
        "                              name.append(data)\n",
        "                          if title == '_links':\n",
        "                              _links.append(data)\n",
        "    except Exception as e:\n",
        "            print('Error :',f'Country {CountryNames[index]} has failed to get a valid response continuing ...')\n",
        "            CountryCodes.pop(index)\n",
        "            CountryNames.pop(index)\n",
        "      "
      ],
      "execution_count": 16,
      "outputs": [
        {
          "output_type": "display_data",
          "data": {
            "application/vnd.jupyter.widget-view+json": {
              "model_id": "6056649508ab4d1c8ec7f5e8e070d9d3",
              "version_minor": 0,
              "version_major": 2
            },
            "text/plain": [
              "  0%|          | 0/201 [00:00<?, ?it/s]"
            ]
          },
          "metadata": {}
        },
        {
          "output_type": "stream",
          "name": "stdout",
          "text": [
            "Error : Country Afghanistan has failed to get a valid response continuing ...\n",
            "Error : Country Algeria has failed to get a valid response continuing ...\n",
            "Error : Country Andorra has failed to get a valid response continuing ...\n",
            "Error : Country Anguilla, United Kingdom has failed to get a valid response continuing ...\n",
            "Error : Country Argentina has failed to get a valid response continuing ...\n",
            "Error : Country Australia has failed to get a valid response continuing ...\n",
            "Error : Country Azerbaijan has failed to get a valid response continuing ...\n",
            "Error : Country Bahrain has failed to get a valid response continuing ...\n",
            "Error : Country Barbados has failed to get a valid response continuing ...\n",
            "Error : Country Belgium has failed to get a valid response continuing ...\n",
            "Error : Country Benin has failed to get a valid response continuing ...\n",
            "Error : Country Bolivia has failed to get a valid response continuing ...\n",
            "Error : Country Botswana has failed to get a valid response continuing ...\n",
            "Error : Country Brunei has failed to get a valid response continuing ...\n",
            "Error : Country Burkina Faso has failed to get a valid response continuing ...\n",
            "Error : Country Cambodia has failed to get a valid response continuing ...\n",
            "Error : Country Canada has failed to get a valid response continuing ...\n",
            "Error : Country Central African Republic has failed to get a valid response continuing ...\n",
            "Error : Country Chile has failed to get a valid response continuing ...\n",
            "Error : Country Colombia has failed to get a valid response continuing ...\n",
            "Error : Country Congo has failed to get a valid response continuing ...\n",
            "Error : Country Costa Rica has failed to get a valid response continuing ...\n",
            "Error : Country Cuba has failed to get a valid response continuing ...\n",
            "Error : Country Czech Republic has failed to get a valid response continuing ...\n",
            "Error : Country Denmark has failed to get a valid response continuing ...\n",
            "Error : Country Dominica has failed to get a valid response continuing ...\n",
            "Error : Country Ecuador has failed to get a valid response continuing ...\n",
            "Error : Country El Salvador has failed to get a valid response continuing ...\n",
            "Error : Country Eritrea has failed to get a valid response continuing ...\n",
            "Error : Country Eswatini has failed to get a valid response continuing ...\n",
            "Error : Country Fiji has failed to get a valid response continuing ...\n",
            "Error : Country France has failed to get a valid response continuing ...\n",
            "Error : Country Gambia has failed to get a valid response continuing ...\n",
            "Error : Country Germany has failed to get a valid response continuing ...\n",
            "Error : Country Greece has failed to get a valid response continuing ...\n",
            "Error : Country Guatemala has failed to get a valid response continuing ...\n",
            "Error : Country Guinea Bissau has failed to get a valid response continuing ...\n",
            "Error : Country Haiti has failed to get a valid response continuing ...\n",
            "Error : Country Hungary has failed to get a valid response continuing ...\n",
            "Error : Country Iceland has failed to get a valid response continuing ...\n",
            "Error : Country Indonesia has failed to get a valid response continuing ...\n",
            "Error : Country Iraq has failed to get a valid response continuing ...\n",
            "Error : Country Israel has failed to get a valid response continuing ...\n",
            "Error : Country Jamaica has failed to get a valid response continuing ...\n",
            "Error : Country Jordan has failed to get a valid response continuing ...\n",
            "Error : Country Kenya has failed to get a valid response continuing ...\n",
            "Error : Country Korea (Democratic People's Republic of) has failed to get a valid response continuing ...\n",
            "Error : Country Kuwait has failed to get a valid response continuing ...\n",
            "Error : Country Laos has failed to get a valid response continuing ...\n",
            "Error : Country Lebanon has failed to get a valid response continuing ...\n",
            "Error : Country Liberia has failed to get a valid response continuing ...\n",
            "Error : Country Liechtenstein has failed to get a valid response continuing ...\n",
            "Error : Country Luxembourg has failed to get a valid response continuing ...\n",
            "Error : Country Madagascar has failed to get a valid response continuing ...\n",
            "Error : Country Malaysia has failed to get a valid response continuing ...\n",
            "Error : Country Mali has failed to get a valid response continuing ...\n",
            "Error : Country Marshall Islands has failed to get a valid response continuing ...\n",
            "Error : Country Mauritius has failed to get a valid response continuing ...\n",
            "Error : Country Micronesia, Federated States of has failed to get a valid response continuing ...\n",
            "Error : Country Monaco has failed to get a valid response continuing ...\n",
            "Error : Country Montenegro has failed to get a valid response continuing ...\n",
            "Error : Country Mozambique has failed to get a valid response continuing ...\n",
            "Error : Country Namibia has failed to get a valid response continuing ...\n",
            "Error : Country Nepal has failed to get a valid response continuing ...\n",
            "Error : Country New Zealand has failed to get a valid response continuing ...\n",
            "Error : Country Niger has failed to get a valid response continuing ...\n",
            "Error : Country North Macedonia has failed to get a valid response continuing ...\n",
            "Error : Country Oman has failed to get a valid response continuing ...\n",
            "Error : Country Palau has failed to get a valid response continuing ...\n",
            "Error : Country Panama has failed to get a valid response continuing ...\n",
            "Error : Country Paraguay has failed to get a valid response continuing ...\n",
            "Error : Country Philippines has failed to get a valid response continuing ...\n",
            "Error : Country Portugal has failed to get a valid response continuing ...\n",
            "Error : Country Romania has failed to get a valid response continuing ...\n",
            "Error : Country Rwanda has failed to get a valid response continuing ...\n",
            "Error : Country Saint Lucia has failed to get a valid response continuing ...\n",
            "Error : Country Samoa has failed to get a valid response continuing ...\n",
            "Error : Country Sao Tome and Principe has failed to get a valid response continuing ...\n",
            "Error : Country Senegal has failed to get a valid response continuing ...\n",
            "Error : Country Seychelles has failed to get a valid response continuing ...\n",
            "Error : Country Singapore has failed to get a valid response continuing ...\n",
            "Error : Country Slovenia has failed to get a valid response continuing ...\n",
            "Error : Country Somalia has failed to get a valid response continuing ...\n",
            "Error : Country South Sudan has failed to get a valid response continuing ...\n",
            "Error : Country Sri Lanka has failed to get a valid response continuing ...\n",
            "Error : Country Sudan has failed to get a valid response continuing ...\n",
            "Error : Country Sweden has failed to get a valid response continuing ...\n",
            "Error : Country Syria has failed to get a valid response continuing ...\n",
            "Error : Country Tanzania has failed to get a valid response continuing ...\n",
            "Error : Country Timor-Leste has failed to get a valid response continuing ...\n",
            "Error : Country Tonga has failed to get a valid response continuing ...\n",
            "Error : Country Tunisia has failed to get a valid response continuing ...\n",
            "Error : Country Turkmenistan has failed to get a valid response continuing ...\n",
            "Error : Country Tuvalu has failed to get a valid response continuing ...\n",
            "Error : Country Ukraine has failed to get a valid response continuing ...\n",
            "Error : Country under UNMIK mandate (Kosovo) has failed to get a valid response continuing ...\n",
            "Error : Country United Kingdom has failed to get a valid response continuing ...\n",
            "Error : Country Uruguay has failed to get a valid response continuing ...\n",
            "Error : Country Vanuatu has failed to get a valid response continuing ...\n",
            "Error : Country Venezuela has failed to get a valid response continuing ...\n",
            "Error : Country Yemen has failed to get a valid response continuing ...\n"
          ]
        }
      ]
    },
    {
      "cell_type": "markdown",
      "metadata": {
        "id": "bZNC8jxV-F-X"
      },
      "source": [
        "# Viewing our dataset"
      ]
    },
    {
      "cell_type": "code",
      "metadata": {
        "colab": {
          "base_uri": "https://localhost:8080/",
          "height": 49
        },
        "id": "0Ak1NEbu1rPa",
        "outputId": "9b852c24-9f7a-4387-e3ef-6c6d60752974"
      },
      "source": [
        "import pandas as pd\n",
        "data = list(zip(entity_id,name,forename,date_of_birth,nationalities,nameofcountrydb))\n",
        "df = pd.DataFrame(data, columns = ['entity_id', 'name', 'forename','date_of_birth','nationalities','CountryDataset'])\n",
        "df"
      ],
      "execution_count": 12,
      "outputs": [
        {
          "output_type": "execute_result",
          "data": {
            "text/html": [
              "<div>\n",
              "<style scoped>\n",
              "    .dataframe tbody tr th:only-of-type {\n",
              "        vertical-align: middle;\n",
              "    }\n",
              "\n",
              "    .dataframe tbody tr th {\n",
              "        vertical-align: top;\n",
              "    }\n",
              "\n",
              "    .dataframe thead th {\n",
              "        text-align: right;\n",
              "    }\n",
              "</style>\n",
              "<table border=\"1\" class=\"dataframe\">\n",
              "  <thead>\n",
              "    <tr style=\"text-align: right;\">\n",
              "      <th></th>\n",
              "      <th>entity_id</th>\n",
              "      <th>name</th>\n",
              "      <th>forename</th>\n",
              "      <th>date_of_birth</th>\n",
              "      <th>nationalities</th>\n",
              "      <th>CountryDataset</th>\n",
              "    </tr>\n",
              "  </thead>\n",
              "  <tbody>\n",
              "  </tbody>\n",
              "</table>\n",
              "</div>"
            ],
            "text/plain": [
              "Empty DataFrame\n",
              "Columns: [entity_id, name, forename, date_of_birth, nationalities, CountryDataset]\n",
              "Index: []"
            ]
          },
          "metadata": {},
          "execution_count": 12
        }
      ]
    },
    {
      "cell_type": "markdown",
      "metadata": {
        "id": "kBRDskFuaWai"
      },
      "source": [
        "#### Author : Ashlin Darius Govindasamy"
      ]
    }
  ]
}