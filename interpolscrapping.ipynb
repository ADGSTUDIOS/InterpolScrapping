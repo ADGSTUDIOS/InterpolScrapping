{
  "nbformat": 4,
  "nbformat_minor": 0,
  "metadata": {
    "colab": {
      "name": "interpolscrapping.ipynb",
      "provenance": [],
      "collapsed_sections": [],
      "authorship_tag": "ABX9TyNb8L5rEo5ie5UKccwxhUCA",
      "include_colab_link": true
    },
    "kernelspec": {
      "name": "python3",
      "display_name": "Python 3"
    },
    "language_info": {
      "name": "python"
    }
  },
  "cells": [
    {
      "cell_type": "markdown",
      "metadata": {
        "id": "view-in-github",
        "colab_type": "text"
      },
      "source": [
        "<a href=\"https://colab.research.google.com/github/ADGSTUDIOS/InterpolScrapping/blob/main/interpolscrapping.ipynb\" target=\"_parent\"><img src=\"https://colab.research.google.com/assets/colab-badge.svg\" alt=\"Open In Colab\"/></a>"
      ]
    },
    {
      "cell_type": "markdown",
      "metadata": {
        "id": "TGaEJv6kLeWU"
      },
      "source": [
        "# ADGSTUDIOS Solution for scrapping"
      ]
    },
    {
      "cell_type": "markdown",
      "metadata": {
        "id": "71tiPdi7J1oK"
      },
      "source": [
        "# Interpol uses RestAPI "
      ]
    },
    {
      "cell_type": "markdown",
      "metadata": {
        "id": "fPC74hKvKMOx"
      },
      "source": [
        "# Data Engineering Plan \n",
        "\n",
        "Approach A - Scrape all data and put it into database\n",
        "\n",
        "Approach B - Just run queries using their RestAPI, when user uses that it will then insert into database\n",
        "\n",
        "I have reversed Engineered their website to execute queries on Database look at example below"
      ]
    },
    {
      "cell_type": "markdown",
      "metadata": {
        "id": "0rlmDnomKybh"
      },
      "source": [
        "They API is not advertised publicly, after investigation i found their responses."
      ]
    },
    {
      "cell_type": "markdown",
      "metadata": {
        "id": "zv2fIgYeLUNU"
      },
      "source": [
        "*We can scrape using all the nationalities*"
      ]
    },
    {
      "cell_type": "markdown",
      "metadata": {
        "id": "osvn7QWOLPAG"
      },
      "source": [
        "\n",
        "\n",
        "```\n",
        "<select id=\"nationality\" name=\"nationality\" class=\"generalForm__selectArea\">\n",
        "        <option></option><option value=\"AF\">Afghanistan</option><option value=\"AL\">Albania</option><option value=\"DZ\">Algeria</option><option value=\"AS\">American Samoa, United States</option><option value=\"AD\">Andorra</option><option value=\"AO\">Angola</option><option value=\"AI\">Anguilla, United Kingdom</option><option value=\"AG\">Antigua and Barbuda</option><option value=\"AR\">Argentina</option><option value=\"AM\">Armenia</option><option value=\"AU\">Australia</option><option value=\"AT\">Austria</option><option value=\"AZ\">Azerbaijan</option><option value=\"BS\">Bahamas</option><option value=\"BH\">Bahrain</option><option value=\"BD\">Bangladesh</option><option value=\"BB\">Barbados</option><option value=\"BY\">Belarus</option><option value=\"BE\">Belgium</option><option value=\"BZ\">Belize</option><option value=\"BJ\">Benin</option><option value=\"BT\">Bhutan</option><option value=\"BO\">Bolivia</option><option value=\"BA\">Bosnia and Herzegovina</option><option value=\"BW\">Botswana</option><option value=\"BR\">Brazil</option><option value=\"BN\">Brunei </option><option value=\"BG\">Bulgaria</option><option value=\"BF\">Burkina Faso</option><option value=\"BI\">Burundi</option><option value=\"KH\">Cambodia</option><option value=\"CM\">Cameroon</option><option value=\"CA\">Canada</option><option value=\"CV\">Cape Verde</option><option value=\"CF\">Central African Republic</option><option value=\"TD\">Chad</option><option value=\"CL\">Chile</option><option value=\"CN\">China</option><option value=\"CO\">Colombia</option><option value=\"KM\">Comoros</option><option value=\"CG\">Congo</option><option value=\"CD\">Congo (Democratic Republic of)</option><option value=\"CR\">Costa Rica</option><option value=\"HR\">Croatia</option><option value=\"CU\">Cuba</option><option value=\"CY\">Cyprus</option><option value=\"CZ\">Czech Republic</option><option value=\"CI\">Côte d'Ivoire</option><option value=\"DK\">Denmark</option><option value=\"DJ\">Djibouti</option><option value=\"DM\">Dominica</option><option value=\"DO\">Dominican Republic</option><option value=\"EC\">Ecuador</option><option value=\"EG\">Egypt</option><option value=\"SV\">El Salvador</option><option value=\"GQ\">Equatorial Guinea</option><option value=\"ER\">Eritrea</option><option value=\"EE\">Estonia</option><option value=\"SZ\">Eswatini</option><option value=\"ET\">Ethiopia</option><option value=\"FJ\">Fiji</option><option value=\"FI\">Finland</option><option value=\"FR\">France</option><option value=\"GA\">Gabon</option><option value=\"GM\">Gambia</option><option value=\"GE\">Georgia</option><option value=\"DE\">Germany</option><option value=\"GH\">Ghana</option><option value=\"GR\">Greece</option><option value=\"GD\">Grenada</option><option value=\"GT\">Guatemala</option><option value=\"GN\">Guinea</option><option value=\"GW\">Guinea Bissau</option><option value=\"GY\">Guyana</option><option value=\"HT\">Haiti</option><option value=\"HN\">Honduras</option><option value=\"HU\">Hungary</option><option value=\"914\">ICC (International Criminal Court)</option><option value=\"IS\">Iceland</option><option value=\"IN\">India</option><option value=\"ID\">Indonesia</option><option value=\"IR\">Iran</option><option value=\"IQ\">Iraq</option><option value=\"IE\">Ireland</option><option value=\"IL\">Israel</option><option value=\"IT\">Italy</option><option value=\"JM\">Jamaica</option><option value=\"JP\">Japan</option><option value=\"JO\">Jordan</option><option value=\"KZ\">Kazakhstan</option><option value=\"KE\">Kenya</option><option value=\"KI\">Kiribati</option><option value=\"KP\">Korea (Democratic People's Republic of)</option><option value=\"KR\">Korea (Republic of)</option><option value=\"KW\">Kuwait</option><option value=\"KG\">Kyrgyzstan</option><option value=\"LA\">Laos</option><option value=\"LV\">Latvia</option><option value=\"LB\">Lebanon</option><option value=\"LS\">Lesotho</option><option value=\"LR\">Liberia</option><option value=\"LY\">Libya</option><option value=\"LI\">Liechtenstein</option><option value=\"LT\">Lithuania</option><option value=\"LU\">Luxembourg</option><option value=\"MO\">Macao, China</option><option value=\"MG\">Madagascar</option><option value=\"MW\">Malawi</option><option value=\"MY\">Malaysia</option><option value=\"MV\">Maldives</option><option value=\"ML\">Mali</option><option value=\"MT\">Malta</option><option value=\"MH\">Marshall Islands</option><option value=\"MR\">Mauritania</option><option value=\"MU\">Mauritius</option><option value=\"MX\">Mexico</option><option value=\"FM\">Micronesia, Federated States of</option><option value=\"MD\">Moldova</option><option value=\"MC\">Monaco</option><option value=\"MN\">Mongolia</option><option value=\"ME\">Montenegro</option><option value=\"MA\">Morocco</option><option value=\"MZ\">Mozambique</option><option value=\"MM\">Myanmar</option><option value=\"NA\">Namibia</option><option value=\"NR\">Nauru</option><option value=\"NP\">Nepal</option><option value=\"NL\">Netherlands</option><option value=\"NZ\">New Zealand</option><option value=\"NI\">Nicaragua</option><option value=\"NE\">Niger</option><option value=\"NG\">Nigeria</option><option value=\"MK\">North Macedonia</option><option value=\"NO\">Norway</option><option value=\"OM\">Oman</option><option value=\"PK\">Pakistan</option><option value=\"PW\">Palau</option><option value=\"PS\">Palestine, State of</option><option value=\"PA\">Panama</option><option value=\"PG\">Papua New Guinea</option><option value=\"PY\">Paraguay</option><option value=\"PE\">Peru</option><option value=\"PH\">Philippines</option><option value=\"PL\">Poland</option><option value=\"PT\">Portugal</option><option value=\"QA\">Qatar</option><option value=\"RO\">Romania</option><option value=\"RU\">Russia</option><option value=\"RW\">Rwanda</option><option value=\"KN\">Saint Kitts and Nevis</option><option value=\"LC\">Saint Lucia</option><option value=\"VC\">Saint Vincent and the Grenadines</option><option value=\"WS\">Samoa</option><option value=\"SM\">San Marino</option><option value=\"ST\">Sao Tome and Principe</option><option value=\"SA\">Saudi Arabia</option><option value=\"SN\">Senegal</option><option value=\"RS\">Serbia</option><option value=\"SC\">Seychelles</option><option value=\"SL\">Sierra Leone</option><option value=\"SG\">Singapore</option><option value=\"SK\">Slovakia</option><option value=\"SI\">Slovenia</option><option value=\"SB\">Solomon Islands</option><option value=\"SO\">Somalia</option><option value=\"ZA\">South Africa</option><option value=\"SS\">South Sudan</option><option value=\"ES\">Spain</option><option value=\"LK\">Sri Lanka</option><option value=\"916\">STL (Special Tribunal for Lebanon)</option><option value=\"SD\">Sudan</option><option value=\"SR\">Suriname</option><option value=\"SE\">Sweden</option><option value=\"CH\">Switzerland</option><option value=\"SY\">Syria</option><option value=\"TJ\">Tajikistan</option><option value=\"TZ\">Tanzania</option><option value=\"TH\">Thailand</option><option value=\"TL\">Timor-Leste</option><option value=\"TG\">Togo</option><option value=\"TO\">Tonga</option><option value=\"TT\">Trinidad and Tobago</option><option value=\"TN\">Tunisia</option><option value=\"TR\">Turkey</option><option value=\"TM\">Turkmenistan</option><option value=\"TC\">Turks and Caicos (Islands), United Kingdom</option><option value=\"TV\">Tuvalu</option><option value=\"UG\">Uganda</option><option value=\"UA\">Ukraine</option><option value=\"922\">UN IRMCT (United Nations International Residual Mechanism for Criminal Tribunals)</option><option value=\"UNK\">under UNMIK mandate (Kosovo)</option><option value=\"AE\">United Arab Emirates</option><option value=\"GB\">United Kingdom</option><option value=\"US\">United States</option><option value=\"UY\">Uruguay</option><option value=\"UZ\">Uzbekistan</option><option value=\"VU\">Vanuatu</option><option value=\"VA\">Vatican City State</option><option value=\"VE\">Venezuela</option><option value=\"VN\">Viet Nam</option><option value=\"YE\">Yemen</option><option value=\"ZM\">Zambia</option><option value=\"ZW\">Zimbabwe</option></select>\n",
        "```\n",
        "\n"
      ]
    },
    {
      "cell_type": "code",
      "metadata": {
        "colab": {
          "base_uri": "https://localhost:8080/"
        },
        "id": "97JqydkAEcks",
        "outputId": "2748e2c2-c7ba-43d6-e138-d70ead810c79"
      },
      "source": [
        "import requests\n",
        "import json\n",
        "\n",
        "response = requests.get('https://ws-public.interpol.int/notices/v1/red?&nationality=ZA')\n",
        "data = json.loads(response.content)\n",
        "data"
      ],
      "execution_count": 50,
      "outputs": [
        {
          "output_type": "execute_result",
          "data": {
            "text/plain": [
              "{'_embedded': {'notices': [{'_links': {'images': {'href': 'https://ws-public.interpol.int/notices/v1/red/2019-76558/images'},\n",
              "     'self': {'href': 'https://ws-public.interpol.int/notices/v1/red/2019-76558'},\n",
              "     'thumbnail': {'href': 'https://ws-public.interpol.int/notices/v1/red/2019-76558/images/61495784'}},\n",
              "    'date_of_birth': '1969/08/18',\n",
              "    'entity_id': '2019/76558',\n",
              "    'forename': 'FLORENCE',\n",
              "    'name': 'MAILOS NDIAYE',\n",
              "    'nationalities': ['ZA']},\n",
              "   {'_links': {'images': {'href': 'https://ws-public.interpol.int/notices/v1/red/2019-66957/images'},\n",
              "     'self': {'href': 'https://ws-public.interpol.int/notices/v1/red/2019-66957'},\n",
              "     'thumbnail': {'href': 'https://ws-public.interpol.int/notices/v1/red/2019-66957/images/61464359'}},\n",
              "    'date_of_birth': '1984/01/17',\n",
              "    'entity_id': '2019/66957',\n",
              "    'forename': 'ZUKILE WILLIAM',\n",
              "    'name': 'TSOTSA',\n",
              "    'nationalities': ['ZA']},\n",
              "   {'_links': {'images': {'href': 'https://ws-public.interpol.int/notices/v1/red/2018-80719/images'},\n",
              "     'self': {'href': 'https://ws-public.interpol.int/notices/v1/red/2018-80719'},\n",
              "     'thumbnail': {'href': 'https://ws-public.interpol.int/notices/v1/red/2018-80719/images/61310811'}},\n",
              "    'date_of_birth': '1996/01/22',\n",
              "    'entity_id': '2018/80719',\n",
              "    'forename': 'DYLAN DEAN',\n",
              "    'name': 'TALJAARD',\n",
              "    'nationalities': ['ZA']},\n",
              "   {'_links': {'images': {'href': 'https://ws-public.interpol.int/notices/v1/red/2018-42627/images'},\n",
              "     'self': {'href': 'https://ws-public.interpol.int/notices/v1/red/2018-42627'},\n",
              "     'thumbnail': {'href': 'https://ws-public.interpol.int/notices/v1/red/2018-42627/images/61045410'}},\n",
              "    'date_of_birth': '1971/10/13',\n",
              "    'entity_id': '2018/42627',\n",
              "    'forename': 'KISHOR',\n",
              "    'name': 'NAIDOO',\n",
              "    'nationalities': ['ZA']},\n",
              "   {'_links': {'images': {'href': 'https://ws-public.interpol.int/notices/v1/red/2018-11728/images'},\n",
              "     'self': {'href': 'https://ws-public.interpol.int/notices/v1/red/2018-11728'},\n",
              "     'thumbnail': {'href': 'https://ws-public.interpol.int/notices/v1/red/2018-11728/images/60951953'}},\n",
              "    'date_of_birth': '1985',\n",
              "    'entity_id': '2018/11728',\n",
              "    'forename': 'MBUSO NCAZA',\n",
              "    'name': 'NKOSI',\n",
              "    'nationalities': ['ZA']},\n",
              "   {'_links': {'images': {'href': 'https://ws-public.interpol.int/notices/v1/red/2014-45317/images'},\n",
              "     'self': {'href': 'https://ws-public.interpol.int/notices/v1/red/2014-45317'},\n",
              "     'thumbnail': {'href': 'https://ws-public.interpol.int/notices/v1/red/2014-45317/images/59571054'}},\n",
              "    'date_of_birth': '1972/07/30',\n",
              "    'entity_id': '2014/45317',\n",
              "    'forename': 'MOSES TEBOGO',\n",
              "    'name': 'MATHUNJWA',\n",
              "    'nationalities': ['SZ', 'ZA']},\n",
              "   {'_links': {'images': {'href': 'https://ws-public.interpol.int/notices/v1/red/2011-41779/images'},\n",
              "     'self': {'href': 'https://ws-public.interpol.int/notices/v1/red/2011-41779'},\n",
              "     'thumbnail': {'href': 'https://ws-public.interpol.int/notices/v1/red/2011-41779/images/55649207'}},\n",
              "    'date_of_birth': '1952',\n",
              "    'entity_id': '2011/41779',\n",
              "    'forename': 'WILSON DAN',\n",
              "    'name': 'NKOSI',\n",
              "    'nationalities': ['ZA']},\n",
              "   {'_links': {'images': {'href': 'https://ws-public.interpol.int/notices/v1/red/2011-41758/images'},\n",
              "     'self': {'href': 'https://ws-public.interpol.int/notices/v1/red/2011-41758'},\n",
              "     'thumbnail': {'href': 'https://ws-public.interpol.int/notices/v1/red/2011-41758/images/61284914'}},\n",
              "    'date_of_birth': '1979/06/25',\n",
              "    'entity_id': '2011/41758',\n",
              "    'forename': 'BHEKUMUSA MAWILLIS',\n",
              "    'name': 'SHIBA',\n",
              "    'nationalities': ['ZA', 'SZ']},\n",
              "   {'_links': {'images': {'href': 'https://ws-public.interpol.int/notices/v1/red/2003-53167/images'},\n",
              "     'self': {'href': 'https://ws-public.interpol.int/notices/v1/red/2003-53167'},\n",
              "     'thumbnail': {'href': 'https://ws-public.interpol.int/notices/v1/red/2003-53167/images/60968025'}},\n",
              "    'date_of_birth': '1968/02/24',\n",
              "    'entity_id': '2003/53167',\n",
              "    'forename': 'ZHUOHAO',\n",
              "    'name': 'LIU',\n",
              "    'nationalities': ['ZA']}]},\n",
              " '_links': {'first': {'href': 'https://ws-public.interpol.int/notices/v1/red?nationality=ZA&resultPerPage=20&page=1'},\n",
              "  'last': {'href': 'https://ws-public.interpol.int/notices/v1/red?nationality=ZA&resultPerPage=20&page=1'},\n",
              "  'self': {'href': 'https://ws-public.interpol.int/notices/v1/red?nationality=ZA&resultPerPage=20&page=1'}},\n",
              " 'query': {'nationality': 'ZA', 'page': 1, 'resultPerPage': 20},\n",
              " 'total': 9}"
            ]
          },
          "metadata": {},
          "execution_count": 50
        }
      ]
    }
  ]
}